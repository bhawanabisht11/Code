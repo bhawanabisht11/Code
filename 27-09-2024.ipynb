{
 "cells": [
  {
   "cell_type": "code",
   "execution_count": 1,
   "id": "8c4f227d-05ba-427c-a050-bb611589a8b9",
   "metadata": {},
   "outputs": [],
   "source": [
    "#importing libraries"
   ]
  },
  {
   "cell_type": "code",
   "execution_count": 2,
   "id": "fcca30c7-4f96-43e8-b60e-d19c6f1b64e9",
   "metadata": {},
   "outputs": [],
   "source": [
    "import pandas as pd\n",
    "import numpy as np\n",
    "import matplotlib.pyplot as plt\n",
    "import seaborn as sns\n",
    "%matplotlib inline"
   ]
  },
  {
   "cell_type": "code",
   "execution_count": 3,
   "id": "5b69ce04-76f1-4c05-a569-c81edb364d74",
   "metadata": {},
   "outputs": [],
   "source": [
    "#loading the dataset"
   ]
  },
  {
   "cell_type": "code",
   "execution_count": 4,
   "id": "4c962bc7-3bf0-4bf5-b4c5-6d2c90083539",
   "metadata": {
    "scrolled": true
   },
   "outputs": [],
   "source": [
    "df = pd.read_csv('Amazon Sale Report.csv',low_memory=False)"
   ]
  },
  {
   "cell_type": "code",
   "execution_count": 5,
   "id": "8c7f6d6e-0ed1-40b1-a4bc-a71c2224ac02",
   "metadata": {},
   "outputs": [],
   "source": [
    "## View the first few rows"
   ]
  },
  {
   "cell_type": "code",
   "execution_count": 6,
   "id": "5a381c7f-41a8-4c08-aeb6-84b849324fe4",
   "metadata": {},
   "outputs": [
    {
     "data": {
      "text/html": [
       "<div>\n",
       "<style scoped>\n",
       "    .dataframe tbody tr th:only-of-type {\n",
       "        vertical-align: middle;\n",
       "    }\n",
       "\n",
       "    .dataframe tbody tr th {\n",
       "        vertical-align: top;\n",
       "    }\n",
       "\n",
       "    .dataframe thead th {\n",
       "        text-align: right;\n",
       "    }\n",
       "</style>\n",
       "<table border=\"1\" class=\"dataframe\">\n",
       "  <thead>\n",
       "    <tr style=\"text-align: right;\">\n",
       "      <th></th>\n",
       "      <th>index</th>\n",
       "      <th>Order ID</th>\n",
       "      <th>Date</th>\n",
       "      <th>Status</th>\n",
       "      <th>Fulfilment</th>\n",
       "      <th>Sales Channel</th>\n",
       "      <th>ship-service-level</th>\n",
       "      <th>Style</th>\n",
       "      <th>SKU</th>\n",
       "      <th>Category</th>\n",
       "      <th>...</th>\n",
       "      <th>currency</th>\n",
       "      <th>Amount</th>\n",
       "      <th>ship-city</th>\n",
       "      <th>ship-state</th>\n",
       "      <th>ship-postal-code</th>\n",
       "      <th>ship-country</th>\n",
       "      <th>promotion-ids</th>\n",
       "      <th>B2B</th>\n",
       "      <th>fulfilled-by</th>\n",
       "      <th>Unnamed: 22</th>\n",
       "    </tr>\n",
       "  </thead>\n",
       "  <tbody>\n",
       "    <tr>\n",
       "      <th>0</th>\n",
       "      <td>0</td>\n",
       "      <td>405-8078784-5731545</td>\n",
       "      <td>04-30-22</td>\n",
       "      <td>Cancelled</td>\n",
       "      <td>Merchant</td>\n",
       "      <td>Amazon.in</td>\n",
       "      <td>Standard</td>\n",
       "      <td>SET389</td>\n",
       "      <td>SET389-KR-NP-S</td>\n",
       "      <td>Set</td>\n",
       "      <td>...</td>\n",
       "      <td>INR</td>\n",
       "      <td>647.62</td>\n",
       "      <td>MUMBAI</td>\n",
       "      <td>MAHARASHTRA</td>\n",
       "      <td>400081.0</td>\n",
       "      <td>IN</td>\n",
       "      <td>NaN</td>\n",
       "      <td>False</td>\n",
       "      <td>Easy Ship</td>\n",
       "      <td>NaN</td>\n",
       "    </tr>\n",
       "    <tr>\n",
       "      <th>1</th>\n",
       "      <td>1</td>\n",
       "      <td>171-9198151-1101146</td>\n",
       "      <td>04-30-22</td>\n",
       "      <td>Shipped - Delivered to Buyer</td>\n",
       "      <td>Merchant</td>\n",
       "      <td>Amazon.in</td>\n",
       "      <td>Standard</td>\n",
       "      <td>JNE3781</td>\n",
       "      <td>JNE3781-KR-XXXL</td>\n",
       "      <td>kurta</td>\n",
       "      <td>...</td>\n",
       "      <td>INR</td>\n",
       "      <td>406.00</td>\n",
       "      <td>BENGALURU</td>\n",
       "      <td>KARNATAKA</td>\n",
       "      <td>560085.0</td>\n",
       "      <td>IN</td>\n",
       "      <td>Amazon PLCC Free-Financing Universal Merchant ...</td>\n",
       "      <td>False</td>\n",
       "      <td>Easy Ship</td>\n",
       "      <td>NaN</td>\n",
       "    </tr>\n",
       "    <tr>\n",
       "      <th>2</th>\n",
       "      <td>2</td>\n",
       "      <td>404-0687676-7273146</td>\n",
       "      <td>04-30-22</td>\n",
       "      <td>Shipped</td>\n",
       "      <td>Amazon</td>\n",
       "      <td>Amazon.in</td>\n",
       "      <td>Expedited</td>\n",
       "      <td>JNE3371</td>\n",
       "      <td>JNE3371-KR-XL</td>\n",
       "      <td>kurta</td>\n",
       "      <td>...</td>\n",
       "      <td>INR</td>\n",
       "      <td>329.00</td>\n",
       "      <td>NAVI MUMBAI</td>\n",
       "      <td>MAHARASHTRA</td>\n",
       "      <td>410210.0</td>\n",
       "      <td>IN</td>\n",
       "      <td>IN Core Free Shipping 2015/04/08 23-48-5-108</td>\n",
       "      <td>True</td>\n",
       "      <td>NaN</td>\n",
       "      <td>NaN</td>\n",
       "    </tr>\n",
       "    <tr>\n",
       "      <th>3</th>\n",
       "      <td>3</td>\n",
       "      <td>403-9615377-8133951</td>\n",
       "      <td>04-30-22</td>\n",
       "      <td>Cancelled</td>\n",
       "      <td>Merchant</td>\n",
       "      <td>Amazon.in</td>\n",
       "      <td>Standard</td>\n",
       "      <td>J0341</td>\n",
       "      <td>J0341-DR-L</td>\n",
       "      <td>Western Dress</td>\n",
       "      <td>...</td>\n",
       "      <td>INR</td>\n",
       "      <td>753.33</td>\n",
       "      <td>PUDUCHERRY</td>\n",
       "      <td>PUDUCHERRY</td>\n",
       "      <td>605008.0</td>\n",
       "      <td>IN</td>\n",
       "      <td>NaN</td>\n",
       "      <td>False</td>\n",
       "      <td>Easy Ship</td>\n",
       "      <td>NaN</td>\n",
       "    </tr>\n",
       "    <tr>\n",
       "      <th>4</th>\n",
       "      <td>4</td>\n",
       "      <td>407-1069790-7240320</td>\n",
       "      <td>04-30-22</td>\n",
       "      <td>Shipped</td>\n",
       "      <td>Amazon</td>\n",
       "      <td>Amazon.in</td>\n",
       "      <td>Expedited</td>\n",
       "      <td>JNE3671</td>\n",
       "      <td>JNE3671-TU-XXXL</td>\n",
       "      <td>Top</td>\n",
       "      <td>...</td>\n",
       "      <td>INR</td>\n",
       "      <td>574.00</td>\n",
       "      <td>CHENNAI</td>\n",
       "      <td>TAMIL NADU</td>\n",
       "      <td>600073.0</td>\n",
       "      <td>IN</td>\n",
       "      <td>NaN</td>\n",
       "      <td>False</td>\n",
       "      <td>NaN</td>\n",
       "      <td>NaN</td>\n",
       "    </tr>\n",
       "  </tbody>\n",
       "</table>\n",
       "<p>5 rows × 24 columns</p>\n",
       "</div>"
      ],
      "text/plain": [
       "   index             Order ID      Date                        Status  \\\n",
       "0      0  405-8078784-5731545  04-30-22                     Cancelled   \n",
       "1      1  171-9198151-1101146  04-30-22  Shipped - Delivered to Buyer   \n",
       "2      2  404-0687676-7273146  04-30-22                       Shipped   \n",
       "3      3  403-9615377-8133951  04-30-22                     Cancelled   \n",
       "4      4  407-1069790-7240320  04-30-22                       Shipped   \n",
       "\n",
       "  Fulfilment Sales Channel  ship-service-level    Style              SKU  \\\n",
       "0   Merchant      Amazon.in           Standard   SET389   SET389-KR-NP-S   \n",
       "1   Merchant      Amazon.in           Standard  JNE3781  JNE3781-KR-XXXL   \n",
       "2     Amazon      Amazon.in          Expedited  JNE3371    JNE3371-KR-XL   \n",
       "3   Merchant      Amazon.in           Standard    J0341       J0341-DR-L   \n",
       "4     Amazon      Amazon.in          Expedited  JNE3671  JNE3671-TU-XXXL   \n",
       "\n",
       "        Category  ... currency  Amount    ship-city   ship-state  \\\n",
       "0            Set  ...      INR  647.62       MUMBAI  MAHARASHTRA   \n",
       "1          kurta  ...      INR  406.00    BENGALURU    KARNATAKA   \n",
       "2          kurta  ...      INR  329.00  NAVI MUMBAI  MAHARASHTRA   \n",
       "3  Western Dress  ...      INR  753.33   PUDUCHERRY   PUDUCHERRY   \n",
       "4            Top  ...      INR  574.00      CHENNAI   TAMIL NADU   \n",
       "\n",
       "  ship-postal-code  ship-country  \\\n",
       "0         400081.0            IN   \n",
       "1         560085.0            IN   \n",
       "2         410210.0            IN   \n",
       "3         605008.0            IN   \n",
       "4         600073.0            IN   \n",
       "\n",
       "                                       promotion-ids    B2B  fulfilled-by  \\\n",
       "0                                                NaN  False     Easy Ship   \n",
       "1  Amazon PLCC Free-Financing Universal Merchant ...  False     Easy Ship   \n",
       "2       IN Core Free Shipping 2015/04/08 23-48-5-108   True           NaN   \n",
       "3                                                NaN  False     Easy Ship   \n",
       "4                                                NaN  False           NaN   \n",
       "\n",
       "  Unnamed: 22  \n",
       "0         NaN  \n",
       "1         NaN  \n",
       "2         NaN  \n",
       "3         NaN  \n",
       "4         NaN  \n",
       "\n",
       "[5 rows x 24 columns]"
      ]
     },
     "execution_count": 6,
     "metadata": {},
     "output_type": "execute_result"
    }
   ],
   "source": [
    "df.head()"
   ]
  },
  {
   "cell_type": "code",
   "execution_count": 7,
   "id": "01203c28-4aa6-44f2-9174-038ded99a64d",
   "metadata": {},
   "outputs": [
    {
     "data": {
      "text/plain": [
       "(128975, 24)"
      ]
     },
     "execution_count": 7,
     "metadata": {},
     "output_type": "execute_result"
    }
   ],
   "source": [
    "# Display the shape of the DataFrame\n",
    "df.shape"
   ]
  },
  {
   "cell_type": "code",
   "execution_count": 8,
   "id": "a8ab20d8-ef64-4e01-ad7c-20972c2ae9bb",
   "metadata": {
    "scrolled": true
   },
   "outputs": [
    {
     "data": {
      "text/plain": [
       "index                   int64\n",
       "Order ID               object\n",
       "Date                   object\n",
       "Status                 object\n",
       "Fulfilment             object\n",
       "Sales Channel          object\n",
       "ship-service-level     object\n",
       "Style                  object\n",
       "SKU                    object\n",
       "Category               object\n",
       "Size                   object\n",
       "ASIN                   object\n",
       "Courier Status         object\n",
       "Qty                     int64\n",
       "currency               object\n",
       "Amount                float64\n",
       "ship-city              object\n",
       "ship-state             object\n",
       "ship-postal-code      float64\n",
       "ship-country           object\n",
       "promotion-ids          object\n",
       "B2B                      bool\n",
       "fulfilled-by           object\n",
       "Unnamed: 22            object\n",
       "dtype: object"
      ]
     },
     "execution_count": 8,
     "metadata": {},
     "output_type": "execute_result"
    }
   ],
   "source": [
    "# Display the data types of each column in the DataFrame\n",
    "df.dtypes"
   ]
  },
  {
   "cell_type": "code",
   "execution_count": 9,
   "id": "4133be8a-5f5c-45d3-83c1-237c7265fd28",
   "metadata": {},
   "outputs": [
    {
     "data": {
      "text/plain": [
       "Index(['index', 'Order ID', 'Date', 'Status', 'Fulfilment', 'Sales Channel ',\n",
       "       'ship-service-level', 'Style', 'SKU', 'Category', 'Size', 'ASIN',\n",
       "       'Courier Status', 'Qty', 'currency', 'Amount', 'ship-city',\n",
       "       'ship-state', 'ship-postal-code', 'ship-country', 'promotion-ids',\n",
       "       'B2B', 'fulfilled-by', 'Unnamed: 22'],\n",
       "      dtype='object')"
      ]
     },
     "execution_count": 9,
     "metadata": {},
     "output_type": "execute_result"
    }
   ],
   "source": [
    "# Display the names of the columns in the DataFrame\n",
    "df.columns"
   ]
  },
  {
   "cell_type": "code",
   "execution_count": 10,
   "id": "3eab73f5-c815-4a30-ad57-d56131c398ef",
   "metadata": {},
   "outputs": [
    {
     "name": "stdout",
     "output_type": "stream",
     "text": [
      "<class 'pandas.core.frame.DataFrame'>\n",
      "RangeIndex: 128975 entries, 0 to 128974\n",
      "Data columns (total 24 columns):\n",
      " #   Column              Non-Null Count   Dtype  \n",
      "---  ------              --------------   -----  \n",
      " 0   index               128975 non-null  int64  \n",
      " 1   Order ID            128975 non-null  object \n",
      " 2   Date                128975 non-null  object \n",
      " 3   Status              128975 non-null  object \n",
      " 4   Fulfilment          128975 non-null  object \n",
      " 5   Sales Channel       128975 non-null  object \n",
      " 6   ship-service-level  128975 non-null  object \n",
      " 7   Style               128975 non-null  object \n",
      " 8   SKU                 128975 non-null  object \n",
      " 9   Category            128975 non-null  object \n",
      " 10  Size                128975 non-null  object \n",
      " 11  ASIN                128975 non-null  object \n",
      " 12  Courier Status      122103 non-null  object \n",
      " 13  Qty                 128975 non-null  int64  \n",
      " 14  currency            121180 non-null  object \n",
      " 15  Amount              121180 non-null  float64\n",
      " 16  ship-city           128942 non-null  object \n",
      " 17  ship-state          128942 non-null  object \n",
      " 18  ship-postal-code    128942 non-null  float64\n",
      " 19  ship-country        128942 non-null  object \n",
      " 20  promotion-ids       79822 non-null   object \n",
      " 21  B2B                 128975 non-null  bool   \n",
      " 22  fulfilled-by        39277 non-null   object \n",
      " 23  Unnamed: 22         79925 non-null   object \n",
      "dtypes: bool(1), float64(2), int64(2), object(19)\n",
      "memory usage: 22.8+ MB\n"
     ]
    }
   ],
   "source": [
    "# Display a summary of the DataFrame, including the index, column types, and non-null counts\n",
    "df.info()"
   ]
  },
  {
   "cell_type": "code",
   "execution_count": 11,
   "id": "c1972c2f-df08-4aad-a963-bc3e3209da03",
   "metadata": {},
   "outputs": [
    {
     "data": {
      "text/plain": [
       "0         04-30-22\n",
       "1         04-30-22\n",
       "2         04-30-22\n",
       "3         04-30-22\n",
       "4         04-30-22\n",
       "            ...   \n",
       "128970    05-31-22\n",
       "128971    05-31-22\n",
       "128972    05-31-22\n",
       "128973    05-31-22\n",
       "128974    05-31-22\n",
       "Name: Date, Length: 128975, dtype: object"
      ]
     },
     "execution_count": 11,
     "metadata": {},
     "output_type": "execute_result"
    }
   ],
   "source": [
    "df['Date']"
   ]
  },
  {
   "cell_type": "code",
   "execution_count": 12,
   "id": "026827a1-196d-46f7-be52-c52f4cd5693c",
   "metadata": {},
   "outputs": [],
   "source": [
    "# Convert the Date Column\n",
    "#df['Date'] = pd.to_datetime(df['Date'])\n",
    "df['Date'] = pd.to_datetime(df['Date'], format='%Y-%m-%d', errors='coerce')\n"
   ]
  },
  {
   "cell_type": "code",
   "execution_count": 13,
   "id": "ae78c120-fa1f-477e-b61e-eb071d8c9b89",
   "metadata": {},
   "outputs": [
    {
     "data": {
      "text/plain": [
       "0        NaT\n",
       "1        NaT\n",
       "2        NaT\n",
       "3        NaT\n",
       "4        NaT\n",
       "          ..\n",
       "128970   NaT\n",
       "128971   NaT\n",
       "128972   NaT\n",
       "128973   NaT\n",
       "128974   NaT\n",
       "Name: Date, Length: 128975, dtype: datetime64[ns]"
      ]
     },
     "execution_count": 13,
     "metadata": {},
     "output_type": "execute_result"
    }
   ],
   "source": [
    "# Access the 'Date' column from the DataFrame\n",
    "df['Date']"
   ]
  },
  {
   "cell_type": "code",
   "execution_count": 14,
   "id": "e1dbc86f-7bbb-482c-b3db-0eb9422174a0",
   "metadata": {},
   "outputs": [],
   "source": [
    "#Extract Month and Year\n",
    "df['Year'] = df['Date'].dt.year\n",
    "df['Month'] = df['Date'].dt.month"
   ]
  },
  {
   "cell_type": "code",
   "execution_count": 15,
   "id": "afa6a109-4122-49cc-b8eb-c45f9a2211aa",
   "metadata": {},
   "outputs": [
    {
     "name": "stdout",
     "output_type": "stream",
     "text": [
      "        Year  Month\n",
      "0        NaN    NaN\n",
      "1        NaN    NaN\n",
      "2        NaN    NaN\n",
      "3        NaN    NaN\n",
      "4        NaN    NaN\n",
      "...      ...    ...\n",
      "128970   NaN    NaN\n",
      "128971   NaN    NaN\n",
      "128972   NaN    NaN\n",
      "128973   NaN    NaN\n",
      "128974   NaN    NaN\n",
      "\n",
      "[128975 rows x 2 columns]\n"
     ]
    }
   ],
   "source": [
    "# Print the Year and Month columns side by side\n",
    "print(df[['Year', 'Month']])"
   ]
  },
  {
   "cell_type": "code",
   "execution_count": 16,
   "id": "87367f31-08f0-4380-be50-1a791f6341c9",
   "metadata": {},
   "outputs": [],
   "source": [
    "#Group by Month, Category, and Currency\n",
    "monthly_sales = df.groupby(['Year', 'Month', 'Category', 'currency'])['Amount'].sum().reset_index()\n"
   ]
  },
  {
   "cell_type": "code",
   "execution_count": 17,
   "id": "b4565c9b-fe27-430f-816b-9b687ff18e36",
   "metadata": {},
   "outputs": [
    {
     "data": {
      "text/html": [
       "<div>\n",
       "<style scoped>\n",
       "    .dataframe tbody tr th:only-of-type {\n",
       "        vertical-align: middle;\n",
       "    }\n",
       "\n",
       "    .dataframe tbody tr th {\n",
       "        vertical-align: top;\n",
       "    }\n",
       "\n",
       "    .dataframe thead th {\n",
       "        text-align: right;\n",
       "    }\n",
       "</style>\n",
       "<table border=\"1\" class=\"dataframe\">\n",
       "  <thead>\n",
       "    <tr style=\"text-align: right;\">\n",
       "      <th></th>\n",
       "      <th>Year</th>\n",
       "      <th>Month</th>\n",
       "      <th>Category</th>\n",
       "      <th>currency</th>\n",
       "      <th>Amount</th>\n",
       "    </tr>\n",
       "  </thead>\n",
       "  <tbody>\n",
       "  </tbody>\n",
       "</table>\n",
       "</div>"
      ],
      "text/plain": [
       "Empty DataFrame\n",
       "Columns: [Year, Month, Category, currency, Amount]\n",
       "Index: []"
      ]
     },
     "execution_count": 17,
     "metadata": {},
     "output_type": "execute_result"
    }
   ],
   "source": [
    "monthly_sales"
   ]
  },
  {
   "cell_type": "code",
   "execution_count": 18,
   "id": "188045c6-b003-44fe-8a0a-3dc81b68d4de",
   "metadata": {},
   "outputs": [
    {
     "name": "stderr",
     "output_type": "stream",
     "text": [
      "No artists with labels found to put in legend.  Note that artists whose label start with an underscore are ignored when legend() is called with no argument.\n"
     ]
    },
    {
     "name": "stdout",
     "output_type": "stream",
     "text": [
      "Empty DataFrame\n",
      "Columns: [Year, Month, Category, currency, Amount]\n",
      "Index: []\n"
     ]
    },
    {
     "data": {
      "image/png": "[encoded data removed]",
      "text/plain": [
       "<Figure size 1200x600 with 1 Axes>"
      ]
     },
     "metadata": {},
     "output_type": "display_data"
    }
   ],
   "source": [
    "#Analyze the Results\n",
    "print(monthly_sales)\n",
    "\n",
    "# If you want to visualize the data, you can use matplotlib or seaborn\n",
    "import matplotlib.pyplot as plt\n",
    "import seaborn as sns\n",
    "\n",
    "# Example: Plot total sales by category and month\n",
    "plt.figure(figsize=(12, 6))\n",
    "sns.lineplot(data=monthly_sales, x='Month', y='Amount', hue='Category', marker='o')\n",
    "plt.title('Monthly Sales by Category')\n",
    "plt.xlabel('Month')\n",
    "plt.ylabel('Total Sales Amount')\n",
    "plt.legend(title='Category')\n",
    "plt.show()\n"
   ]
  },
  {
   "cell_type": "code",
   "execution_count": 19,
   "id": "abb43d30-db45-415e-a566-75ecea6d0e3c",
   "metadata": {},
   "outputs": [],
   "source": [
    "#Assess stock levels to understand product movement"
   ]
  },
  {
   "cell_type": "code",
   "execution_count": 20,
   "id": "3c31d1e1-586c-4cb0-9294-4663b7edfd6c",
   "metadata": {},
   "outputs": [
    {
     "name": "stdout",
     "output_type": "stream",
     "text": [
      "                   SKU Category  Total Sold\n",
      "0          AN201-RED-M   Bottom           2\n",
      "1         AN201-RED-XL   Bottom           2\n",
      "2        AN201-RED-XXL   Bottom           1\n",
      "3       AN202-ORANGE-M   Bottom           2\n",
      "4       AN202-ORANGE-S   Bottom           4\n",
      "...                ...      ...         ...\n",
      "7190    SET449-KR-NP-S      Set           1\n",
      "7191   SET461-KR-NP-XL      Set           1\n",
      "7192   SET461-KR-NP-XS      Set           1\n",
      "7193  SET461-KR-NP-XXL      Set           1\n",
      "7194    SET462-KR-NP-S      Set           1\n",
      "\n",
      "[7195 rows x 3 columns]\n"
     ]
    }
   ],
   "source": [
    "# Group by SKU and Category to summarize quantities sold\n",
    "stock_summary = df.groupby(['SKU', 'Category'])['Qty'].sum().reset_index()\n",
    "\n",
    "# Rename the column for clarity\n",
    "stock_summary.rename(columns={'Qty': 'Total Sold'}, inplace=True)\n",
    "\n",
    "# Display the summary\n",
    "print(stock_summary)\n"
   ]
  },
  {
   "cell_type": "code",
   "execution_count": 21,
   "id": "fe1504a7-e333-425b-9340-7e2273cc7758",
   "metadata": {},
   "outputs": [
    {
     "name": "stdout",
     "output_type": "stream",
     "text": [
      "7195\n"
     ]
    }
   ],
   "source": [
    "# Count the number of unique SKUs in the 'sku' column\n",
    "sku_count = df['SKU'].nunique()\n",
    "print(sku_count)\n"
   ]
  },
  {
   "cell_type": "code",
   "execution_count": 22,
   "id": "ba88010d-010a-466e-8e78-2a648fd91006",
   "metadata": {},
   "outputs": [
    {
     "name": "stdout",
     "output_type": "stream",
     "text": [
      "SKU\n",
      "JNE3797-KR-L       773\n",
      "JNE3797-KR-M       657\n",
      "JNE3797-KR-S       587\n",
      "JNE3405-KR-L       535\n",
      "J0230-SKD-M        507\n",
      "                  ... \n",
      "BTM004-XXXL          1\n",
      "BL090-XS             1\n",
      "BTM045-PP-M          1\n",
      "SET034-KR-NP-XS      1\n",
      "SET045-KR-NP-M       1\n",
      "Name: count, Length: 7195, dtype: int64\n"
     ]
    }
   ],
   "source": [
    "# Count the quantity of each SKU and display it\n",
    "sku_quantity = df['SKU'].value_counts()\n",
    "print(sku_quantity)\n"
   ]
  },
  {
   "cell_type": "code",
   "execution_count": 23,
   "id": "ac7e1e37-a70a-4f8e-9e24-0afce9b66864",
   "metadata": {},
   "outputs": [
    {
     "name": "stdout",
     "output_type": "stream",
     "text": [
      "    SKU  Initial Stock Category  Total Sold  Remaining Stock\n",
      "0  SKU1            100      NaN         NaN            100.0\n",
      "1  SKU2             50      NaN         NaN             50.0\n",
      "2  SKU3            200      NaN         NaN            200.0\n"
     ]
    }
   ],
   "source": [
    "# Example of initial stock (you may need to adjust based on your actual data)\n",
    "initial_stock_data = {\n",
    "    'SKU': ['SKU1', 'SKU2', 'SKU3'],  # example SKUs\n",
    "    'Initial Stock': [100, 50, 200]    # corresponding initial stock\n",
    "}\n",
    "initial_stock_df = pd.DataFrame(initial_stock_data)\n",
    "\n",
    "# Merge with stock summary to calculate remaining stock\n",
    "stock_analysis = pd.merge(initial_stock_df, stock_summary, on='SKU', how='left')\n",
    "\n",
    "# Calculate remaining stock\n",
    "stock_analysis['Remaining Stock'] = stock_analysis['Initial Stock'] - stock_analysis['Total Sold'].fillna(0)\n",
    "\n",
    "# Display the analysis\n",
    "print(stock_analysis)\n"
   ]
  },
  {
   "cell_type": "code",
   "execution_count": 24,
   "id": "40490a6e-31dc-4f5f-8108-618110245e20",
   "metadata": {},
   "outputs": [
    {
     "name": "stdout",
     "output_type": "stream",
     "text": [
      "                  SKU       Category  Total Sold\n",
      "4548     JNE3797-KR-L  Western Dress         661\n",
      "4549     JNE3797-KR-M  Western Dress         561\n",
      "4550     JNE3797-KR-S  Western Dress         503\n",
      "2746     JNE3405-KR-L          kurta         485\n",
      "1346      J0230-SKD-M            Set         468\n",
      "1347      J0230-SKD-S            Set         421\n",
      "4551    JNE3797-KR-XL  Western Dress         415\n",
      "2748     JNE3405-KR-S          kurta         399\n",
      "4552    JNE3797-KR-XS  Western Dress         386\n",
      "6305  SET268-KR-NP-XL            Set         373\n"
     ]
    }
   ],
   "source": [
    "# Sort by total sold to find fast-moving products\n",
    "fast_moving = stock_summary.sort_values(by='Total Sold', ascending=False)\n",
    "\n",
    "# Display top 10 fast-moving products\n",
    "print(fast_moving.head(10))\n"
   ]
  },
  {
   "cell_type": "code",
   "execution_count": 25,
   "id": "0017cf57-e6d7-4fcd-ac1c-427683af1a8e",
   "metadata": {},
   "outputs": [
    {
     "data": {
      "image/png": "[encoded data removed]",
      "text/plain": [
       "<Figure size 1200x600 with 1 Axes>"
      ]
     },
     "metadata": {},
     "output_type": "display_data"
    }
   ],
   "source": [
    "import matplotlib.pyplot as plt\n",
    "import seaborn as sns\n",
    "\n",
    "# Example: Bar plot for total sold by category\n",
    "plt.figure(figsize=(12, 6))\n",
    "sns.barplot(data=stock_summary, x='Category', y='Total Sold', estimator=sum)\n",
    "plt.title('Total Quantity Sold by Category')\n",
    "plt.xlabel('Category')\n",
    "plt.ylabel('Total Sold')\n",
    "plt.xticks(rotation=45)\n",
    "plt.show()\n"
   ]
  },
  {
   "cell_type": "markdown",
   "id": "9eeca0ba-5206-41be-af8f-622f1888da12",
   "metadata": {},
   "source": [
    "# Compare profitability using Shiprocket and INCREF data"
   ]
  },
  {
   "cell_type": "code",
   "execution_count": 26,
   "id": "aa8c3b45-b987-4983-ab32-e663f1f63754",
   "metadata": {},
   "outputs": [],
   "source": [
    "df1 = pd.read_csv('Cloud Warehouse Compersion Chart.csv')"
   ]
  },
  {
   "cell_type": "code",
   "execution_count": 27,
   "id": "a0f2c971-91f7-4f2c-b4cf-943c327536aa",
   "metadata": {},
   "outputs": [
    {
     "data": {
      "text/html": [
       "<div>\n",
       "<style scoped>\n",
       "    .dataframe tbody tr th:only-of-type {\n",
       "        vertical-align: middle;\n",
       "    }\n",
       "\n",
       "    .dataframe tbody tr th {\n",
       "        vertical-align: top;\n",
       "    }\n",
       "\n",
       "    .dataframe thead th {\n",
       "        text-align: right;\n",
       "    }\n",
       "</style>\n",
       "<table border=\"1\" class=\"dataframe\">\n",
       "  <thead>\n",
       "    <tr style=\"text-align: right;\">\n",
       "      <th></th>\n",
       "      <th>index</th>\n",
       "      <th>Shiprocket</th>\n",
       "      <th>Unnamed: 1</th>\n",
       "      <th>INCREFF</th>\n",
       "    </tr>\n",
       "  </thead>\n",
       "  <tbody>\n",
       "    <tr>\n",
       "      <th>0</th>\n",
       "      <td>0</td>\n",
       "      <td>Heads</td>\n",
       "      <td>Price (Per Unit)</td>\n",
       "      <td>Price (Per Unit)</td>\n",
       "    </tr>\n",
       "    <tr>\n",
       "      <th>1</th>\n",
       "      <td>1</td>\n",
       "      <td>Inbound (Fresh Stock and RTO)</td>\n",
       "      <td>₹4.00</td>\n",
       "      <td>4</td>\n",
       "    </tr>\n",
       "    <tr>\n",
       "      <th>2</th>\n",
       "      <td>2</td>\n",
       "      <td>Outbound</td>\n",
       "      <td>₹7.00</td>\n",
       "      <td>11</td>\n",
       "    </tr>\n",
       "    <tr>\n",
       "      <th>3</th>\n",
       "      <td>3</td>\n",
       "      <td>Storage Fee/Cft</td>\n",
       "      <td>₹25.00</td>\n",
       "      <td>Rs 0.15/- Per Day</td>\n",
       "    </tr>\n",
       "    <tr>\n",
       "      <th>4</th>\n",
       "      <td>4</td>\n",
       "      <td>Customer Return with Detailed QC</td>\n",
       "      <td>₹6.00</td>\n",
       "      <td>15.5</td>\n",
       "    </tr>\n",
       "  </tbody>\n",
       "</table>\n",
       "</div>"
      ],
      "text/plain": [
       "   index                        Shiprocket        Unnamed: 1  \\\n",
       "0      0                             Heads  Price (Per Unit)   \n",
       "1      1     Inbound (Fresh Stock and RTO)             ₹4.00   \n",
       "2      2                          Outbound             ₹7.00   \n",
       "3      3                   Storage Fee/Cft            ₹25.00   \n",
       "4      4  Customer Return with Detailed QC             ₹6.00   \n",
       "\n",
       "             INCREFF  \n",
       "0   Price (Per Unit)  \n",
       "1                  4  \n",
       "2                 11  \n",
       "3  Rs 0.15/- Per Day  \n",
       "4               15.5  "
      ]
     },
     "execution_count": 27,
     "metadata": {},
     "output_type": "execute_result"
    }
   ],
   "source": [
    "df1.head()"
   ]
  },
  {
   "cell_type": "code",
   "execution_count": 28,
   "id": "ef90a891-abf9-4dde-978a-1056ed91e36d",
   "metadata": {},
   "outputs": [
    {
     "data": {
      "text/plain": [
       "Index(['index', 'Shiprocket', 'Unnamed: 1', 'INCREFF'], dtype='object')"
      ]
     },
     "execution_count": 28,
     "metadata": {},
     "output_type": "execute_result"
    }
   ],
   "source": [
    "df1.columns"
   ]
  },
  {
   "cell_type": "code",
   "execution_count": 29,
   "id": "8ed98d0d-615a-4a08-ac14-3e7077a5390a",
   "metadata": {},
   "outputs": [
    {
     "name": "stdout",
     "output_type": "stream",
     "text": [
      "Shiprocket Costs:\n",
      "                           Category  Shiprocket_Cost\n",
      "0     Inbound (Fresh Stock and RTO)              4.0\n",
      "1                          Outbound              7.0\n",
      "2                   Storage Fee/Cft             25.0\n",
      "3  Customer Return with Detailed QC              6.0\n",
      "\n",
      "INCREF Costs:\n",
      "                           Category  INCREF_Cost\n",
      "0     Inbound (Fresh Stock and RTO)         4.00\n",
      "1                          Outbound        11.00\n",
      "2                   Storage Fee/Cft         0.15\n",
      "3  Customer Return with Detailed QC        15.50\n",
      "\n",
      "Operational Details:\n",
      "                     Task                                        Description\n",
      "0        Inward Unloading  Boxes counted and weighed. Data captured in th...\n",
      "1       Inward Validation  GRN will be initiated against a valid PO docum...\n",
      "2               Inward QC  No QC to be done (Outer Visual Inspection and ...\n",
      "3              Inward GRN  Scanning (Goods will have scannable EAN code o...\n",
      "4          Inward Putaway  Mobile HHT based Putaway to accurately record ...\n",
      "5   Outward Order receipt  Orders will be received through integration di...\n",
      "6         Outward Picking  System driven optimised picking with real-time...\n",
      "7         Outward Packing  System driven packing by putting products into...\n",
      "8       Outward Invoicing  Print the invoice as generated through integra...\n",
      "9        Outward Shipping  Shipping labels and AWB via integration with v...\n",
      "10            Outward POD  Digital PODs from vendors if available via int...\n",
      "11         Returns Inward  RTO and Customer Returns are received and Inwa...\n",
      "12  Inventory Cycle count  Daily cycle count to maintain accuracy and del...\n",
      "13        Inventory Audit  Annual wall to wall Audit including global cou...\n"
     ]
    }
   ],
   "source": [
    "import pandas as pd\n",
    "\n",
    "# Create DataFrames for costs\n",
    "shiprocket_data = {\n",
    "    'Category': ['Inbound (Fresh Stock and RTO)', 'Outbound', 'Storage Fee/Cft', 'Customer Return with Detailed QC'],\n",
    "    'Shiprocket_Cost': [4.00, 7.00, 25.00, 6.00],\n",
    "}\n",
    "\n",
    "incref_data = {\n",
    "    'Category': ['Inbound (Fresh Stock and RTO)', 'Outbound', 'Storage Fee/Cft', 'Customer Return with Detailed QC'],\n",
    "    'INCREF_Cost': [4.00, 11.00, 0.15, 15.5],\n",
    "}\n",
    "\n",
    "shiprocket_df = pd.DataFrame(shiprocket_data)\n",
    "incref_df = pd.DataFrame(incref_data)\n",
    "\n",
    "# Display the cost DataFrames\n",
    "print(\"Shiprocket Costs:\")\n",
    "print(shiprocket_df)\n",
    "print(\"\\nINCREF Costs:\")\n",
    "print(incref_df)\n",
    "\n",
    "# Create DataFrame for operational details\n",
    "operational_data = {\n",
    "    'Task': [\n",
    "        'Inward Unloading', 'Inward Validation', 'Inward QC', 'Inward GRN', \n",
    "        'Inward Putaway', 'Outward Order receipt', 'Outward Picking', \n",
    "        'Outward Packing', 'Outward Invoicing', 'Outward Shipping', \n",
    "        'Outward POD', 'Returns Inward', 'Inventory Cycle count', \n",
    "        'Inventory Audit'\n",
    "    ],\n",
    "    'Description': [\n",
    "        'Boxes counted and weighed. Data captured in the Maven.',\n",
    "        'GRN will be initiated against a valid PO document and Invoice will be captured',\n",
    "        'No QC to be done (Outer Visual Inspection and Color matching)',\n",
    "        'Scanning (Goods will have scannable EAN code or unique barcodes) and counting of all inventory, verification of all data by supervisor and completion of GRN. Detailed report is made available',\n",
    "        'Mobile HHT based Putaway to accurately record warehouse location for every item/roll',\n",
    "        'Orders will be received through integration directly into Maven or directly to Maven by the client',\n",
    "        'System driven optimised picking with real-time inventory correction by marking Not Found and alternate locations suggested',\n",
    "        'System driven packing by putting products into Polybags to maintain accuracy and generate pack slips',\n",
    "        'Print the invoice as generated through integration or provided by the client',\n",
    "        'Shipping labels and AWB via integration with vendors and generation of digital manifests to ensure accuracy',\n",
    "        'Digital PODs from vendors if available via integration',\n",
    "        'RTO and Customer Returns are received and Inwarded in the warehouse. Outer package visible inspection is done before inwarding',\n",
    "        'Daily cycle count to maintain accuracy and deliver SLAs without disrupting regular operations. Complete Inventory to be covered in 3 months.',\n",
    "        'Annual wall to wall Audit including global count driven by system to ensure speed while eliminating human error'\n",
    "    ]\n",
    "}\n",
    "\n",
    "operational_df = pd.DataFrame(operational_data)\n",
    "\n",
    "# Display the operational DataFrame\n",
    "print(\"\\nOperational Details:\")\n",
    "print(operational_df)\n"
   ]
  },
  {
   "cell_type": "code",
   "execution_count": 30,
   "id": "7a3145f9-ac73-4aff-a86b-81c5cd62ecf3",
   "metadata": {},
   "outputs": [
    {
     "name": "stdout",
     "output_type": "stream",
     "text": [
      "                           Category  Shiprocket_Cost\n",
      "0     Inbound (Fresh Stock and RTO)              4.0\n",
      "1                          Outbound              7.0\n",
      "2                   Storage Fee/Cft             25.0\n",
      "3  Customer Return with Detailed QC              6.0\n",
      "                           Category  INCREF_Cost\n",
      "0     Inbound (Fresh Stock and RTO)         4.00\n",
      "1                          Outbound        11.00\n",
      "2                   Storage Fee/Cft         0.15\n",
      "3  Customer Return with Detailed QC        15.50\n"
     ]
    }
   ],
   "source": [
    "\n",
    "\n",
    "# Create DataFrames manually for demonstration (you would load this from CSV normally)\n",
    "shiprocket_data = {\n",
    "    'Category': ['Inbound (Fresh Stock and RTO)', 'Outbound', 'Storage Fee/Cft', 'Customer Return with Detailed QC'],\n",
    "    'Shiprocket_Cost': [4.00, 7.00, 25.00, 6.00]  # Assuming costs are in a uniform currency\n",
    "}\n",
    "\n",
    "incref_data = {\n",
    "    'Category': ['Inbound (Fresh Stock and RTO)', 'Outbound', 'Storage Fee/Cft', 'Customer Return with Detailed QC'],\n",
    "    'INCREF_Cost': [4.00, 11.00, 0.15, 15.5]  # Convert to a uniform format if necessary\n",
    "}\n",
    "\n",
    "shiprocket_df = pd.DataFrame(shiprocket_data)\n",
    "incref_df = pd.DataFrame(incref_data)\n",
    "\n",
    "# Check the DataFrames\n",
    "print(shiprocket_df)\n",
    "print(incref_df)\n"
   ]
  },
  {
   "cell_type": "code",
   "execution_count": 31,
   "id": "b526d1b3-00d2-4473-9c6b-9535cc6b45a2",
   "metadata": {},
   "outputs": [],
   "source": [
    "# Load and Clean the Data"
   ]
  },
  {
   "cell_type": "code",
   "execution_count": 32,
   "id": "76b4cf61-84cb-4b88-afcf-ef05da0d2538",
   "metadata": {},
   "outputs": [
    {
     "name": "stdout",
     "output_type": "stream",
     "text": [
      "                           Category  Shiprocket_Cost  INCREF_Cost\n",
      "0  Customer Return with Detailed QC              6.0        15.50\n",
      "1     Inbound (Fresh Stock and RTO)              4.0         4.00\n",
      "2                          Outbound              7.0        11.00\n",
      "3                   Storage Fee/Cft             25.0         0.15\n"
     ]
    }
   ],
   "source": [
    "# Merge the DataFrames\n",
    "comparison_df = pd.merge(shiprocket_df, incref_df, on='Category', how='outer')\n",
    "\n",
    "# Fill NaN values with 0 for cost calculations\n",
    "comparison_df.fillna(0, inplace=True)\n",
    "\n",
    "# Display the comparison DataFrame\n",
    "print(comparison_df)\n"
   ]
  },
  {
   "cell_type": "code",
   "execution_count": 33,
   "id": "4af4fb23-55fd-4845-ad4d-2bb93537ee8f",
   "metadata": {},
   "outputs": [],
   "source": [
    "#Calculate Profitability"
   ]
  },
  {
   "cell_type": "code",
   "execution_count": 34,
   "id": "ff283250-83d6-4ed4-aec9-8c65ac5fab10",
   "metadata": {},
   "outputs": [
    {
     "name": "stdout",
     "output_type": "stream",
     "text": [
      "                           Category  Shiprocket_Cost  Shiprocket_Profit  \\\n",
      "0  Customer Return with Detailed QC              6.0                6.0   \n",
      "1     Inbound (Fresh Stock and RTO)              4.0                4.0   \n",
      "2                          Outbound              7.0                7.0   \n",
      "3                   Storage Fee/Cft             25.0               25.0   \n",
      "\n",
      "   INCREF_Cost  INCREF_Profit  \n",
      "0        15.50          15.50  \n",
      "1         4.00           4.00  \n",
      "2        11.00          11.00  \n",
      "3         0.15           0.15  \n"
     ]
    }
   ],
   "source": [
    "# Estimate revenue for comparison\n",
    "comparison_df['Shiprocket_Revenue'] = comparison_df['Shiprocket_Cost'] * 2\n",
    "comparison_df['INCREF_Revenue'] = comparison_df['INCREF_Cost'] * 2\n",
    "\n",
    "# Calculate profit\n",
    "comparison_df['Shiprocket_Profit'] = comparison_df['Shiprocket_Revenue'] - comparison_df['Shiprocket_Cost']\n",
    "comparison_df['INCREF_Profit'] = comparison_df['INCREF_Revenue'] - comparison_df['INCREF_Cost']\n",
    "\n",
    "# Display the updated comparison DataFrame\n",
    "print(comparison_df[['Category', 'Shiprocket_Cost', 'Shiprocket_Profit', 'INCREF_Cost', 'INCREF_Profit']])\n"
   ]
  },
  {
   "cell_type": "code",
   "execution_count": 35,
   "id": "668ddbf7-5dd0-4877-acfc-2332c1771ed2",
   "metadata": {},
   "outputs": [],
   "source": [
    "#Analyze and Visualize"
   ]
  },
  {
   "cell_type": "code",
   "execution_count": 36,
   "id": "1cea3fd4-855c-43a7-85b3-363f34aaa15f",
   "metadata": {},
   "outputs": [
    {
     "data": {
      "image/png": "[encoded data removed]",
      "text/plain": [
       "<Figure size 1200x600 with 1 Axes>"
      ]
     },
     "metadata": {},
     "output_type": "display_data"
    }
   ],
   "source": [
    "import matplotlib.pyplot as plt\n",
    "\n",
    "# Set the figure size\n",
    "plt.figure(figsize=(12, 6))\n",
    "\n",
    "# Bar plot for costs\n",
    "plt.bar(comparison_df['Category'], comparison_df['Shiprocket_Cost'], label='Shiprocket Cost', alpha=0.6)\n",
    "plt.bar(comparison_df['Category'], comparison_df['INCREF_Cost'], label='INCREF Cost', alpha=0.6)\n",
    "\n",
    "# Adding profits\n",
    "plt.bar(comparison_df['Category'], comparison_df['Shiprocket_Profit'], label='Shiprocket Profit', alpha=0.6, color='orange')\n",
    "plt.bar(comparison_df['Category'], comparison_df['INCREF_Profit'], label='INCREF Profit', alpha=0.6, color='green')\n",
    "\n",
    "# Adding titles and labels\n",
    "plt.title('Cost and Profit Comparison between Shiprocket and INCREF')\n",
    "plt.xlabel('Category')\n",
    "plt.ylabel('Amount')\n",
    "plt.xticks(rotation=45)\n",
    "plt.legend()\n",
    "\n",
    "# Show the plot\n",
    "plt.tight_layout()\n",
    "plt.show()\n"
   ]
  },
  {
   "cell_type": "markdown",
   "id": "28f1b0ef-5f14-44b4-ba77-7faa33898a93",
   "metadata": {},
   "source": [
    "# Compare prices across channels like Amazon, Myntra, Ajio"
   ]
  },
  {
   "cell_type": "code",
   "execution_count": 37,
   "id": "31572f81-be5b-4573-809c-4addb4eb78fa",
   "metadata": {},
   "outputs": [],
   "source": [
    "df2 = pd.read_csv('May-2022.csv')"
   ]
  },
  {
   "cell_type": "code",
   "execution_count": 38,
   "id": "ad846243-f592-44bb-a716-278081c94a35",
   "metadata": {},
   "outputs": [
    {
     "data": {
      "text/html": [
       "<div>\n",
       "<style scoped>\n",
       "    .dataframe tbody tr th:only-of-type {\n",
       "        vertical-align: middle;\n",
       "    }\n",
       "\n",
       "    .dataframe tbody tr th {\n",
       "        vertical-align: top;\n",
       "    }\n",
       "\n",
       "    .dataframe thead th {\n",
       "        text-align: right;\n",
       "    }\n",
       "</style>\n",
       "<table border=\"1\" class=\"dataframe\">\n",
       "  <thead>\n",
       "    <tr style=\"text-align: right;\">\n",
       "      <th></th>\n",
       "      <th>index</th>\n",
       "      <th>Sku</th>\n",
       "      <th>Style Id</th>\n",
       "      <th>Catalog</th>\n",
       "      <th>Category</th>\n",
       "      <th>Weight</th>\n",
       "      <th>TP</th>\n",
       "      <th>MRP Old</th>\n",
       "      <th>Final MRP Old</th>\n",
       "      <th>Ajio MRP</th>\n",
       "      <th>Amazon MRP</th>\n",
       "      <th>Amazon FBA MRP</th>\n",
       "      <th>Flipkart MRP</th>\n",
       "      <th>Limeroad MRP</th>\n",
       "      <th>Myntra MRP</th>\n",
       "      <th>Paytm MRP</th>\n",
       "      <th>Snapdeal MRP</th>\n",
       "    </tr>\n",
       "  </thead>\n",
       "  <tbody>\n",
       "    <tr>\n",
       "      <th>0</th>\n",
       "      <td>0</td>\n",
       "      <td>Os206_3141_S</td>\n",
       "      <td>Os206_3141</td>\n",
       "      <td>Moments</td>\n",
       "      <td>Kurta</td>\n",
       "      <td>0.3</td>\n",
       "      <td>538</td>\n",
       "      <td>2178</td>\n",
       "      <td>2295</td>\n",
       "      <td>2295</td>\n",
       "      <td>2295</td>\n",
       "      <td>2295</td>\n",
       "      <td>2295</td>\n",
       "      <td>2295</td>\n",
       "      <td>2295</td>\n",
       "      <td>2295</td>\n",
       "      <td>2295</td>\n",
       "    </tr>\n",
       "    <tr>\n",
       "      <th>1</th>\n",
       "      <td>1</td>\n",
       "      <td>Os206_3141_M</td>\n",
       "      <td>Os206_3141</td>\n",
       "      <td>Moments</td>\n",
       "      <td>Kurta</td>\n",
       "      <td>0.3</td>\n",
       "      <td>538</td>\n",
       "      <td>2178</td>\n",
       "      <td>2295</td>\n",
       "      <td>2295</td>\n",
       "      <td>2295</td>\n",
       "      <td>2295</td>\n",
       "      <td>2295</td>\n",
       "      <td>2295</td>\n",
       "      <td>2295</td>\n",
       "      <td>2295</td>\n",
       "      <td>2295</td>\n",
       "    </tr>\n",
       "    <tr>\n",
       "      <th>2</th>\n",
       "      <td>2</td>\n",
       "      <td>Os206_3141_L</td>\n",
       "      <td>Os206_3141</td>\n",
       "      <td>Moments</td>\n",
       "      <td>Kurta</td>\n",
       "      <td>0.3</td>\n",
       "      <td>538</td>\n",
       "      <td>2178</td>\n",
       "      <td>2295</td>\n",
       "      <td>2295</td>\n",
       "      <td>2295</td>\n",
       "      <td>2295</td>\n",
       "      <td>2295</td>\n",
       "      <td>2295</td>\n",
       "      <td>2295</td>\n",
       "      <td>2295</td>\n",
       "      <td>2295</td>\n",
       "    </tr>\n",
       "    <tr>\n",
       "      <th>3</th>\n",
       "      <td>3</td>\n",
       "      <td>Os206_3141_XL</td>\n",
       "      <td>Os206_3141</td>\n",
       "      <td>Moments</td>\n",
       "      <td>Kurta</td>\n",
       "      <td>0.3</td>\n",
       "      <td>538</td>\n",
       "      <td>2178</td>\n",
       "      <td>2295</td>\n",
       "      <td>2295</td>\n",
       "      <td>2295</td>\n",
       "      <td>2295</td>\n",
       "      <td>2295</td>\n",
       "      <td>2295</td>\n",
       "      <td>2295</td>\n",
       "      <td>2295</td>\n",
       "      <td>2295</td>\n",
       "    </tr>\n",
       "    <tr>\n",
       "      <th>4</th>\n",
       "      <td>4</td>\n",
       "      <td>Os206_3141_2XL</td>\n",
       "      <td>Os206_3141</td>\n",
       "      <td>Moments</td>\n",
       "      <td>Kurta</td>\n",
       "      <td>0.3</td>\n",
       "      <td>538</td>\n",
       "      <td>2178</td>\n",
       "      <td>2295</td>\n",
       "      <td>2295</td>\n",
       "      <td>2295</td>\n",
       "      <td>2295</td>\n",
       "      <td>2295</td>\n",
       "      <td>2295</td>\n",
       "      <td>2295</td>\n",
       "      <td>2295</td>\n",
       "      <td>2295</td>\n",
       "    </tr>\n",
       "  </tbody>\n",
       "</table>\n",
       "</div>"
      ],
      "text/plain": [
       "   index             Sku    Style Id  Catalog Category Weight   TP MRP Old  \\\n",
       "0      0    Os206_3141_S  Os206_3141  Moments    Kurta    0.3  538    2178   \n",
       "1      1    Os206_3141_M  Os206_3141  Moments    Kurta    0.3  538    2178   \n",
       "2      2    Os206_3141_L  Os206_3141  Moments    Kurta    0.3  538    2178   \n",
       "3      3   Os206_3141_XL  Os206_3141  Moments    Kurta    0.3  538    2178   \n",
       "4      4  Os206_3141_2XL  Os206_3141  Moments    Kurta    0.3  538    2178   \n",
       "\n",
       "  Final MRP Old Ajio MRP Amazon MRP Amazon FBA MRP Flipkart MRP Limeroad MRP  \\\n",
       "0          2295     2295       2295           2295         2295         2295   \n",
       "1          2295     2295       2295           2295         2295         2295   \n",
       "2          2295     2295       2295           2295         2295         2295   \n",
       "3          2295     2295       2295           2295         2295         2295   \n",
       "4          2295     2295       2295           2295         2295         2295   \n",
       "\n",
       "  Myntra MRP Paytm MRP Snapdeal MRP  \n",
       "0       2295      2295         2295  \n",
       "1       2295      2295         2295  \n",
       "2       2295      2295         2295  \n",
       "3       2295      2295         2295  \n",
       "4       2295      2295         2295  "
      ]
     },
     "execution_count": 38,
     "metadata": {},
     "output_type": "execute_result"
    }
   ],
   "source": [
    "df2.head()"
   ]
  },
  {
   "cell_type": "code",
   "execution_count": 39,
   "id": "f83d27e2-9185-490f-bfda-dbda01b197da",
   "metadata": {},
   "outputs": [
    {
     "data": {
      "text/plain": [
       "Index(['index', 'Sku', 'Style Id', 'Catalog', 'Category', 'Weight', 'TP',\n",
       "       'MRP Old', 'Final MRP Old', 'Ajio MRP', 'Amazon MRP', 'Amazon FBA MRP',\n",
       "       'Flipkart MRP', 'Limeroad MRP', 'Myntra MRP', 'Paytm MRP',\n",
       "       'Snapdeal MRP'],\n",
       "      dtype='object')"
      ]
     },
     "execution_count": 39,
     "metadata": {},
     "output_type": "execute_result"
    }
   ],
   "source": [
    "df2.columns"
   ]
  },
  {
   "cell_type": "code",
   "execution_count": 40,
   "id": "d41f159d-bc8d-4ea5-8af4-abb7f12752f1",
   "metadata": {},
   "outputs": [
    {
     "name": "stdout",
     "output_type": "stream",
     "text": [
      "              Sku Category Ajio MRP Amazon MRP Myntra MRP\n",
      "0    Os206_3141_S    Kurta     2295       2295       2295\n",
      "1    Os206_3141_M    Kurta     2295       2295       2295\n",
      "2    Os206_3141_L    Kurta     2295       2295       2295\n",
      "3   Os206_3141_XL    Kurta     2295       2295       2295\n",
      "4  Os206_3141_2XL    Kurta     2295       2295       2295\n"
     ]
    }
   ],
   "source": [
    "# Define the columns for price comparison\n",
    "price_columns = ['Sku', 'Category', 'Ajio MRP', 'Amazon MRP', 'Myntra MRP']\n",
    "\n",
    "# Select the relevant columns for comparison\n",
    "price_df = df2[price_columns]\n",
    "\n",
    "# Display the new DataFrame\n",
    "print(price_df.head())\n"
   ]
  },
  {
   "cell_type": "code",
   "execution_count": null,
   "id": "842214d3-0399-4485-b5e8-5826e5376bc0",
   "metadata": {},
   "outputs": [],
   "source": []
  },
  {
   "cell_type": "code",
   "execution_count": 46,
   "id": "94805e7d-a176-4181-ad7c-140519a47b3f",
   "metadata": {},
   "outputs": [
    {
     "name": "stdout",
     "output_type": "stream",
     "text": [
      "0       0.0\n",
      "1       0.0\n",
      "2       0.0\n",
      "3       0.0\n",
      "4       0.0\n",
      "       ... \n",
      "1325    0.0\n",
      "1326    0.0\n",
      "1327    0.0\n",
      "1328    0.0\n",
      "1329    0.0\n",
      "Name: Amazon vs Ajio, Length: 1330, dtype: float64\n"
     ]
    }
   ],
   "source": [
    "# Convert the 'Amazon MRP' and 'Ajio MRP' columns to numeric safely\n",
    "price_df.loc[:, 'Amazon MRP'] = pd.to_numeric(price_df['Amazon MRP'], errors='coerce')\n",
    "price_df.loc[:, 'Ajio MRP'] = pd.to_numeric(price_df['Ajio MRP'], errors='coerce')\n",
    "\n",
    "# Calculate price differences\n",
    "price_df.loc[:, 'Amazon vs Ajio'] = price_df['Amazon MRP'] - price_df['Ajio MRP']\n",
    "print(price_df['Amazon vs Ajio'])\n"
   ]
  },
  {
   "cell_type": "code",
   "execution_count": null,
   "id": "4d196f81-d754-48a6-b4e5-6a14824208ad",
   "metadata": {},
   "outputs": [],
   "source": []
  }
 ],
 "metadata": {
  "kernelspec": {
   "display_name": "Python 3 (ipykernel)",
   "language": "python",
   "name": "python3"
  },
  "language_info": {
   "codemirror_mode": {
    "name": "ipython",
    "version": 3
   },
   "file_extension": ".py",
   "mimetype": "text/x-python",
   "name": "python",
   "nbconvert_exporter": "python",
   "pygments_lexer": "ipython3",
   "version": "3.11.7"
  }
 },
 "nbformat": 4,
 "nbformat_minor": 5
}
