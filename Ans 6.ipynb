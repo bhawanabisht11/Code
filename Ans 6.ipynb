{
 "cells": [
  {
   "cell_type": "code",
   "execution_count": 1,
   "id": "9bf35770-f60f-433d-be76-83f5343fb97b",
   "metadata": {},
   "outputs": [],
   "source": [
    "import pandas as pd\n",
    "import numpy as np\n",
    "import matplotlib.pyplot as plt\n",
    "import seaborn as sns\n",
    "%matplotlib inline"
   ]
  },
  {
   "cell_type": "code",
   "execution_count": 2,
   "id": "d1b58386-998c-403b-9f4e-7793951b3b26",
   "metadata": {},
   "outputs": [],
   "source": [
    "df = pd.read_csv('Amazon Sale Report.csv',low_memory=False)"
   ]
  },
  {
   "cell_type": "code",
   "execution_count": 3,
   "id": "457f3a06-82ce-43e1-89c9-0d574038b23c",
   "metadata": {},
   "outputs": [
    {
     "data": {
      "text/html": [
       "<div>\n",
       "<style scoped>\n",
       "    .dataframe tbody tr th:only-of-type {\n",
       "        vertical-align: middle;\n",
       "    }\n",
       "\n",
       "    .dataframe tbody tr th {\n",
       "        vertical-align: top;\n",
       "    }\n",
       "\n",
       "    .dataframe thead th {\n",
       "        text-align: right;\n",
       "    }\n",
       "</style>\n",
       "<table border=\"1\" class=\"dataframe\">\n",
       "  <thead>\n",
       "    <tr style=\"text-align: right;\">\n",
       "      <th></th>\n",
       "      <th>index</th>\n",
       "      <th>Order ID</th>\n",
       "      <th>Date</th>\n",
       "      <th>Status</th>\n",
       "      <th>Fulfilment</th>\n",
       "      <th>Sales Channel</th>\n",
       "      <th>ship-service-level</th>\n",
       "      <th>Style</th>\n",
       "      <th>SKU</th>\n",
       "      <th>Category</th>\n",
       "      <th>...</th>\n",
       "      <th>currency</th>\n",
       "      <th>Amount</th>\n",
       "      <th>ship-city</th>\n",
       "      <th>ship-state</th>\n",
       "      <th>ship-postal-code</th>\n",
       "      <th>ship-country</th>\n",
       "      <th>promotion-ids</th>\n",
       "      <th>B2B</th>\n",
       "      <th>fulfilled-by</th>\n",
       "      <th>Unnamed: 22</th>\n",
       "    </tr>\n",
       "  </thead>\n",
       "  <tbody>\n",
       "    <tr>\n",
       "      <th>0</th>\n",
       "      <td>0</td>\n",
       "      <td>405-8078784-5731545</td>\n",
       "      <td>04-30-22</td>\n",
       "      <td>Cancelled</td>\n",
       "      <td>Merchant</td>\n",
       "      <td>Amazon.in</td>\n",
       "      <td>Standard</td>\n",
       "      <td>SET389</td>\n",
       "      <td>SET389-KR-NP-S</td>\n",
       "      <td>Set</td>\n",
       "      <td>...</td>\n",
       "      <td>INR</td>\n",
       "      <td>647.62</td>\n",
       "      <td>MUMBAI</td>\n",
       "      <td>MAHARASHTRA</td>\n",
       "      <td>400081.0</td>\n",
       "      <td>IN</td>\n",
       "      <td>NaN</td>\n",
       "      <td>False</td>\n",
       "      <td>Easy Ship</td>\n",
       "      <td>NaN</td>\n",
       "    </tr>\n",
       "    <tr>\n",
       "      <th>1</th>\n",
       "      <td>1</td>\n",
       "      <td>171-9198151-1101146</td>\n",
       "      <td>04-30-22</td>\n",
       "      <td>Shipped - Delivered to Buyer</td>\n",
       "      <td>Merchant</td>\n",
       "      <td>Amazon.in</td>\n",
       "      <td>Standard</td>\n",
       "      <td>JNE3781</td>\n",
       "      <td>JNE3781-KR-XXXL</td>\n",
       "      <td>kurta</td>\n",
       "      <td>...</td>\n",
       "      <td>INR</td>\n",
       "      <td>406.00</td>\n",
       "      <td>BENGALURU</td>\n",
       "      <td>KARNATAKA</td>\n",
       "      <td>560085.0</td>\n",
       "      <td>IN</td>\n",
       "      <td>Amazon PLCC Free-Financing Universal Merchant ...</td>\n",
       "      <td>False</td>\n",
       "      <td>Easy Ship</td>\n",
       "      <td>NaN</td>\n",
       "    </tr>\n",
       "    <tr>\n",
       "      <th>2</th>\n",
       "      <td>2</td>\n",
       "      <td>404-0687676-7273146</td>\n",
       "      <td>04-30-22</td>\n",
       "      <td>Shipped</td>\n",
       "      <td>Amazon</td>\n",
       "      <td>Amazon.in</td>\n",
       "      <td>Expedited</td>\n",
       "      <td>JNE3371</td>\n",
       "      <td>JNE3371-KR-XL</td>\n",
       "      <td>kurta</td>\n",
       "      <td>...</td>\n",
       "      <td>INR</td>\n",
       "      <td>329.00</td>\n",
       "      <td>NAVI MUMBAI</td>\n",
       "      <td>MAHARASHTRA</td>\n",
       "      <td>410210.0</td>\n",
       "      <td>IN</td>\n",
       "      <td>IN Core Free Shipping 2015/04/08 23-48-5-108</td>\n",
       "      <td>True</td>\n",
       "      <td>NaN</td>\n",
       "      <td>NaN</td>\n",
       "    </tr>\n",
       "    <tr>\n",
       "      <th>3</th>\n",
       "      <td>3</td>\n",
       "      <td>403-9615377-8133951</td>\n",
       "      <td>04-30-22</td>\n",
       "      <td>Cancelled</td>\n",
       "      <td>Merchant</td>\n",
       "      <td>Amazon.in</td>\n",
       "      <td>Standard</td>\n",
       "      <td>J0341</td>\n",
       "      <td>J0341-DR-L</td>\n",
       "      <td>Western Dress</td>\n",
       "      <td>...</td>\n",
       "      <td>INR</td>\n",
       "      <td>753.33</td>\n",
       "      <td>PUDUCHERRY</td>\n",
       "      <td>PUDUCHERRY</td>\n",
       "      <td>605008.0</td>\n",
       "      <td>IN</td>\n",
       "      <td>NaN</td>\n",
       "      <td>False</td>\n",
       "      <td>Easy Ship</td>\n",
       "      <td>NaN</td>\n",
       "    </tr>\n",
       "    <tr>\n",
       "      <th>4</th>\n",
       "      <td>4</td>\n",
       "      <td>407-1069790-7240320</td>\n",
       "      <td>04-30-22</td>\n",
       "      <td>Shipped</td>\n",
       "      <td>Amazon</td>\n",
       "      <td>Amazon.in</td>\n",
       "      <td>Expedited</td>\n",
       "      <td>JNE3671</td>\n",
       "      <td>JNE3671-TU-XXXL</td>\n",
       "      <td>Top</td>\n",
       "      <td>...</td>\n",
       "      <td>INR</td>\n",
       "      <td>574.00</td>\n",
       "      <td>CHENNAI</td>\n",
       "      <td>TAMIL NADU</td>\n",
       "      <td>600073.0</td>\n",
       "      <td>IN</td>\n",
       "      <td>NaN</td>\n",
       "      <td>False</td>\n",
       "      <td>NaN</td>\n",
       "      <td>NaN</td>\n",
       "    </tr>\n",
       "  </tbody>\n",
       "</table>\n",
       "<p>5 rows × 24 columns</p>\n",
       "</div>"
      ],
      "text/plain": [
       "   index             Order ID      Date                        Status  \\\n",
       "0      0  405-8078784-5731545  04-30-22                     Cancelled   \n",
       "1      1  171-9198151-1101146  04-30-22  Shipped - Delivered to Buyer   \n",
       "2      2  404-0687676-7273146  04-30-22                       Shipped   \n",
       "3      3  403-9615377-8133951  04-30-22                     Cancelled   \n",
       "4      4  407-1069790-7240320  04-30-22                       Shipped   \n",
       "\n",
       "  Fulfilment Sales Channel  ship-service-level    Style              SKU  \\\n",
       "0   Merchant      Amazon.in           Standard   SET389   SET389-KR-NP-S   \n",
       "1   Merchant      Amazon.in           Standard  JNE3781  JNE3781-KR-XXXL   \n",
       "2     Amazon      Amazon.in          Expedited  JNE3371    JNE3371-KR-XL   \n",
       "3   Merchant      Amazon.in           Standard    J0341       J0341-DR-L   \n",
       "4     Amazon      Amazon.in          Expedited  JNE3671  JNE3671-TU-XXXL   \n",
       "\n",
       "        Category  ... currency  Amount    ship-city   ship-state  \\\n",
       "0            Set  ...      INR  647.62       MUMBAI  MAHARASHTRA   \n",
       "1          kurta  ...      INR  406.00    BENGALURU    KARNATAKA   \n",
       "2          kurta  ...      INR  329.00  NAVI MUMBAI  MAHARASHTRA   \n",
       "3  Western Dress  ...      INR  753.33   PUDUCHERRY   PUDUCHERRY   \n",
       "4            Top  ...      INR  574.00      CHENNAI   TAMIL NADU   \n",
       "\n",
       "  ship-postal-code  ship-country  \\\n",
       "0         400081.0            IN   \n",
       "1         560085.0            IN   \n",
       "2         410210.0            IN   \n",
       "3         605008.0            IN   \n",
       "4         600073.0            IN   \n",
       "\n",
       "                                       promotion-ids    B2B  fulfilled-by  \\\n",
       "0                                                NaN  False     Easy Ship   \n",
       "1  Amazon PLCC Free-Financing Universal Merchant ...  False     Easy Ship   \n",
       "2       IN Core Free Shipping 2015/04/08 23-48-5-108   True           NaN   \n",
       "3                                                NaN  False     Easy Ship   \n",
       "4                                                NaN  False           NaN   \n",
       "\n",
       "  Unnamed: 22  \n",
       "0         NaN  \n",
       "1         NaN  \n",
       "2         NaN  \n",
       "3         NaN  \n",
       "4         NaN  \n",
       "\n",
       "[5 rows x 24 columns]"
      ]
     },
     "execution_count": 3,
     "metadata": {},
     "output_type": "execute_result"
    }
   ],
   "source": [
    "df.head()"
   ]
  },
  {
   "cell_type": "code",
   "execution_count": 4,
   "id": "af53c150-be04-4569-aa1d-8ddb65662b04",
   "metadata": {},
   "outputs": [
    {
     "data": {
      "text/plain": [
       "(128975, 24)"
      ]
     },
     "execution_count": 4,
     "metadata": {},
     "output_type": "execute_result"
    }
   ],
   "source": [
    "df.shape"
   ]
  },
  {
   "cell_type": "code",
   "execution_count": 5,
   "id": "eebd9acc-c3ae-41da-9f38-b870ef6288c4",
   "metadata": {},
   "outputs": [
    {
     "data": {
      "text/plain": [
       "index                   int64\n",
       "Order ID               object\n",
       "Date                   object\n",
       "Status                 object\n",
       "Fulfilment             object\n",
       "Sales Channel          object\n",
       "ship-service-level     object\n",
       "Style                  object\n",
       "SKU                    object\n",
       "Category               object\n",
       "Size                   object\n",
       "ASIN                   object\n",
       "Courier Status         object\n",
       "Qty                     int64\n",
       "currency               object\n",
       "Amount                float64\n",
       "ship-city              object\n",
       "ship-state             object\n",
       "ship-postal-code      float64\n",
       "ship-country           object\n",
       "promotion-ids          object\n",
       "B2B                      bool\n",
       "fulfilled-by           object\n",
       "Unnamed: 22            object\n",
       "dtype: object"
      ]
     },
     "execution_count": 5,
     "metadata": {},
     "output_type": "execute_result"
    }
   ],
   "source": [
    "df.dtypes"
   ]
  },
  {
   "cell_type": "code",
   "execution_count": 6,
   "id": "5577386f-2701-4e43-909f-4a9de1890026",
   "metadata": {},
   "outputs": [
    {
     "data": {
      "text/plain": [
       "Index(['index', 'Order ID', 'Date', 'Status', 'Fulfilment', 'Sales Channel ',\n",
       "       'ship-service-level', 'Style', 'SKU', 'Category', 'Size', 'ASIN',\n",
       "       'Courier Status', 'Qty', 'currency', 'Amount', 'ship-city',\n",
       "       'ship-state', 'ship-postal-code', 'ship-country', 'promotion-ids',\n",
       "       'B2B', 'fulfilled-by', 'Unnamed: 22'],\n",
       "      dtype='object')"
      ]
     },
     "execution_count": 6,
     "metadata": {},
     "output_type": "execute_result"
    }
   ],
   "source": [
    "df.columns"
   ]
  },
  {
   "cell_type": "code",
   "execution_count": 7,
   "id": "e9ba32d3-da1e-4249-935f-be9cec558951",
   "metadata": {
    "scrolled": true
   },
   "outputs": [
    {
     "name": "stdout",
     "output_type": "stream",
     "text": [
      "<class 'pandas.core.frame.DataFrame'>\n",
      "RangeIndex: 128975 entries, 0 to 128974\n",
      "Data columns (total 24 columns):\n",
      " #   Column              Non-Null Count   Dtype  \n",
      "---  ------              --------------   -----  \n",
      " 0   index               128975 non-null  int64  \n",
      " 1   Order ID            128975 non-null  object \n",
      " 2   Date                128975 non-null  object \n",
      " 3   Status              128975 non-null  object \n",
      " 4   Fulfilment          128975 non-null  object \n",
      " 5   Sales Channel       128975 non-null  object \n",
      " 6   ship-service-level  128975 non-null  object \n",
      " 7   Style               128975 non-null  object \n",
      " 8   SKU                 128975 non-null  object \n",
      " 9   Category            128975 non-null  object \n",
      " 10  Size                128975 non-null  object \n",
      " 11  ASIN                128975 non-null  object \n",
      " 12  Courier Status      122103 non-null  object \n",
      " 13  Qty                 128975 non-null  int64  \n",
      " 14  currency            121180 non-null  object \n",
      " 15  Amount              121180 non-null  float64\n",
      " 16  ship-city           128942 non-null  object \n",
      " 17  ship-state          128942 non-null  object \n",
      " 18  ship-postal-code    128942 non-null  float64\n",
      " 19  ship-country        128942 non-null  object \n",
      " 20  promotion-ids       79822 non-null   object \n",
      " 21  B2B                 128975 non-null  bool   \n",
      " 22  fulfilled-by        39277 non-null   object \n",
      " 23  Unnamed: 22         79925 non-null   object \n",
      "dtypes: bool(1), float64(2), int64(2), object(19)\n",
      "memory usage: 22.8+ MB\n"
     ]
    }
   ],
   "source": [
    "df.info()"
   ]
  },
  {
   "cell_type": "code",
   "execution_count": 8,
   "id": "6199cf9e-7830-4f33-b7d4-f9dd647c3ec9",
   "metadata": {},
   "outputs": [
    {
     "data": {
      "text/plain": [
       "0          Standard\n",
       "1          Standard\n",
       "2         Expedited\n",
       "3          Standard\n",
       "4         Expedited\n",
       "            ...    \n",
       "128970    Expedited\n",
       "128971    Expedited\n",
       "128972    Expedited\n",
       "128973    Expedited\n",
       "128974    Expedited\n",
       "Name: ship-service-level, Length: 128975, dtype: object"
      ]
     },
     "execution_count": 8,
     "metadata": {},
     "output_type": "execute_result"
    }
   ],
   "source": [
    "df['ship-service-level']"
   ]
  },
  {
   "cell_type": "code",
   "execution_count": 9,
   "id": "3639dd9d-bd8b-439e-8aa0-a658de8fec6c",
   "metadata": {},
   "outputs": [
    {
     "name": "stdout",
     "output_type": "stream",
     "text": [
      "DataFrame Shape: (128975, 24)\n",
      "Columns: ['index', 'Order ID', 'Date', 'Status', 'Fulfilment', 'Sales Channel', 'ship-service-level', 'Style', 'SKU', 'Category', 'Size', 'ASIN', 'Courier Status', 'Qty', 'currency', 'Amount', 'ship-city', 'ship-state', 'ship-postal-code', 'ship-country', 'promotion-ids', 'B2B', 'fulfilled-by', 'Unnamed: 22']\n",
      "First few rows:\n",
      "    index             Order ID      Date                        Status  \\\n",
      "0      0  405-8078784-5731545  04-30-22                     Cancelled   \n",
      "1      1  171-9198151-1101146  04-30-22  Shipped - Delivered to Buyer   \n",
      "2      2  404-0687676-7273146  04-30-22                       Shipped   \n",
      "3      3  403-9615377-8133951  04-30-22                     Cancelled   \n",
      "4      4  407-1069790-7240320  04-30-22                       Shipped   \n",
      "\n",
      "  Fulfilment Sales Channel ship-service-level    Style              SKU  \\\n",
      "0   Merchant     Amazon.in           Standard   SET389   SET389-KR-NP-S   \n",
      "1   Merchant     Amazon.in           Standard  JNE3781  JNE3781-KR-XXXL   \n",
      "2     Amazon     Amazon.in          Expedited  JNE3371    JNE3371-KR-XL   \n",
      "3   Merchant     Amazon.in           Standard    J0341       J0341-DR-L   \n",
      "4     Amazon     Amazon.in          Expedited  JNE3671  JNE3671-TU-XXXL   \n",
      "\n",
      "        Category  ... currency  Amount    ship-city   ship-state  \\\n",
      "0            Set  ...      INR  647.62       MUMBAI  MAHARASHTRA   \n",
      "1          kurta  ...      INR  406.00    BENGALURU    KARNATAKA   \n",
      "2          kurta  ...      INR  329.00  NAVI MUMBAI  MAHARASHTRA   \n",
      "3  Western Dress  ...      INR  753.33   PUDUCHERRY   PUDUCHERRY   \n",
      "4            Top  ...      INR  574.00      CHENNAI   TAMIL NADU   \n",
      "\n",
      "  ship-postal-code  ship-country  \\\n",
      "0         400081.0            IN   \n",
      "1         560085.0            IN   \n",
      "2         410210.0            IN   \n",
      "3         605008.0            IN   \n",
      "4         600073.0            IN   \n",
      "\n",
      "                                       promotion-ids    B2B  fulfilled-by  \\\n",
      "0                                                NaN  False     Easy Ship   \n",
      "1  Amazon PLCC Free-Financing Universal Merchant ...  False     Easy Ship   \n",
      "2       IN Core Free Shipping 2015/04/08 23-48-5-108   True           NaN   \n",
      "3                                                NaN  False     Easy Ship   \n",
      "4                                                NaN  False           NaN   \n",
      "\n",
      "  Unnamed: 22  \n",
      "0         NaN  \n",
      "1         NaN  \n",
      "2         NaN  \n",
      "3         NaN  \n",
      "4         NaN  \n",
      "\n",
      "[5 rows x 24 columns]\n",
      "Column: 'index', Type: int64\n",
      "Column: 'Order ID', Type: object\n",
      "Column: 'Date', Type: object\n",
      "Column: 'Status', Type: object\n",
      "Column: 'Fulfilment', Type: object\n",
      "Column: 'Sales Channel', Type: object\n",
      "Column: 'ship-service-level', Type: object\n",
      "Column: 'Style', Type: object\n",
      "Column: 'SKU', Type: object\n",
      "Column: 'Category', Type: object\n",
      "Column: 'Size', Type: object\n",
      "Column: 'ASIN', Type: object\n",
      "Column: 'Courier Status', Type: object\n",
      "Column: 'Qty', Type: int64\n",
      "Column: 'currency', Type: object\n",
      "Column: 'Amount', Type: float64\n",
      "Column: 'ship-city', Type: object\n",
      "Column: 'ship-state', Type: object\n",
      "Column: 'ship-postal-code', Type: float64\n",
      "Column: 'ship-country', Type: object\n",
      "Column: 'promotion-ids', Type: object\n",
      "Column: 'B2B', Type: bool\n",
      "Column: 'fulfilled-by', Type: object\n",
      "Column: 'Unnamed: 22', Type: object\n"
     ]
    }
   ],
   "source": [
    "\n",
    "# Check the shape of the DataFrame\n",
    "print(\"DataFrame Shape:\", df.shape)\n",
    "\n",
    "# Strip whitespace from column names\n",
    "df.columns = df.columns.str.strip()\n",
    "\n",
    "# Check the columns\n",
    "print(\"Columns:\", df.columns.tolist())\n",
    "\n",
    "# Inspect the first few rows\n",
    "print(\"First few rows:\\n\", df.head())\n",
    "\n",
    "# List all columns with their types\n",
    "for col in df.columns:\n",
    "    print(f\"Column: '{col}', Type: {df[col].dtype}\")\n"
   ]
  },
  {
   "cell_type": "code",
   "execution_count": 10,
   "id": "d3579faa-c19a-4b4f-86d9-1e9090b3e6e8",
   "metadata": {},
   "outputs": [
    {
     "name": "stdout",
     "output_type": "stream",
     "text": [
      "0              Set\n",
      "1            kurta\n",
      "2            kurta\n",
      "3    Western Dress\n",
      "4              Top\n",
      "Name: Category, dtype: object\n"
     ]
    }
   ],
   "source": [
    "print(df['Category'].head())\n"
   ]
  },
  {
   "cell_type": "code",
   "execution_count": 11,
   "id": "b513319c-2cfc-4710-ad3a-3407ade7ad8d",
   "metadata": {},
   "outputs": [
    {
     "name": "stdout",
     "output_type": "stream",
     "text": [
      "  Ship Service Level  Total Delivery Cost\n",
      "0          Expedited           54285183.0\n",
      "1           Standard           24307495.3\n",
      "\n",
      "Overall Total Delivery Cost: 78592678.30 INR\n"
     ]
    }
   ],
   "source": [
    "\n",
    "# Create DataFrame\n",
    "df = pd.DataFrame(df)\n",
    "\n",
    "# Calculate total delivery cost per order\n",
    "total_cost = df.groupby('ship-service-level')['Amount'].sum().reset_index()\n",
    "total_cost.columns = ['Ship Service Level', 'Total Delivery Cost']\n",
    "\n",
    "# Print the results\n",
    "print(total_cost)\n",
    "\n",
    "# Optionally, calculate the overall total delivery cost\n",
    "overall_total = df['Amount'].sum()\n",
    "print(f\"\\nOverall Total Delivery Cost: {overall_total:.2f} INR\")\n"
   ]
  },
  {
   "cell_type": "code",
   "execution_count": null,
   "id": "40a71f5e-28d1-4650-8e9d-110993993b2d",
   "metadata": {},
   "outputs": [],
   "source": []
  },
  {
   "cell_type": "code",
   "execution_count": 12,
   "id": "909e235d-e303-46f7-bac6-bdaf374a76e5",
   "metadata": {},
   "outputs": [
    {
     "name": "stdout",
     "output_type": "stream",
     "text": [
      "  Ship Service Level  Total Delivery Cost\n",
      "0          Expedited           54285183.0\n",
      "1           Standard           24307495.3\n",
      "\n",
      "Overall Total Delivery Cost: 78592678.30 INR\n"
     ]
    }
   ],
   "source": [
    "\n",
    "# Create DataFrame\n",
    "df = pd.DataFrame(df)\n",
    "\n",
    "# Calculate total delivery cost per order\n",
    "total_cost = df.groupby('ship-service-level')['Amount'].sum().reset_index()\n",
    "total_cost.columns = ['Ship Service Level', 'Total Delivery Cost']\n",
    "\n",
    "# Print the results\n",
    "print(total_cost)\n",
    "\n",
    "# Optionally, calculate the overall total delivery cost\n",
    "overall_total = df['Amount'].sum()\n",
    "print(f\"\\nOverall Total Delivery Cost: {overall_total:.2f} INR\")\n"
   ]
  },
  {
   "cell_type": "code",
   "execution_count": null,
   "id": "0d7ca9a4-f9b2-4f33-a297-bb14564e8dac",
   "metadata": {},
   "outputs": [],
   "source": []
  },
  {
   "cell_type": "code",
   "execution_count": 13,
   "id": "38a76de3-4d95-4ef8-8e66-d7e07fedb89e",
   "metadata": {},
   "outputs": [
    {
     "name": "stdout",
     "output_type": "stream",
     "text": [
      "['index', 'Order ID', 'Date', 'Status', 'Fulfilment', 'Sales Channel', 'ship-service-level', 'Style', 'SKU', 'Category', 'Size', 'ASIN', 'Courier Status', 'Qty', 'currency', 'Amount', 'ship-city', 'ship-state', 'ship-postal-code', 'ship-country', 'promotion-ids', 'B2B', 'fulfilled-by', 'Unnamed: 22']\n"
     ]
    }
   ],
   "source": [
    "from sklearn.preprocessing import LabelEncoder\n",
    "\n",
    "# Check the columns first\n",
    "print(df.columns.tolist())  # Ensure 'Category' and 'ship-state' are present\n",
    "\n",
    "# Create a copy to preserve original columns\n",
    "df_encoded = df.copy()\n",
    "\n",
    "# Encode categorical variables only if they exist\n",
    "if 'Category' in df_encoded.columns and 'ship-state' in df_encoded.columns:\n",
    "    label_encoder = LabelEncoder()\n",
    "    df_encoded['Category'] = label_encoder.fit_transform(df_encoded['Category'])\n",
    "    df_encoded['ship-state'] = label_encoder.fit_transform(df_encoded['ship-state'])\n",
    "else:\n",
    "    print(\"Columns 'Category' or 'ship-state' not found.\")\n"
   ]
  },
  {
   "cell_type": "code",
   "execution_count": 14,
   "id": "fb75ebbb-c974-44b7-9b25-5be119717c62",
   "metadata": {},
   "outputs": [
    {
     "name": "stdout",
     "output_type": "stream",
     "text": [
      "0\n"
     ]
    }
   ],
   "source": [
    "print(df['Category'].isnull().sum())\n"
   ]
  },
  {
   "cell_type": "code",
   "execution_count": 15,
   "id": "7f67b38f-eeef-47c7-a40d-3b9e0c44e987",
   "metadata": {},
   "outputs": [
    {
     "name": "stdout",
     "output_type": "stream",
     "text": [
      "index                     0\n",
      "Order ID                  0\n",
      "Date                      0\n",
      "Status                    0\n",
      "Fulfilment                0\n",
      "Sales Channel             0\n",
      "ship-service-level        0\n",
      "Style                     0\n",
      "SKU                       0\n",
      "Category                  0\n",
      "Size                      0\n",
      "ASIN                      0\n",
      "Courier Status         6872\n",
      "Qty                       0\n",
      "currency               7795\n",
      "Amount                 7795\n",
      "ship-city                33\n",
      "ship-state               33\n",
      "ship-postal-code         33\n",
      "ship-country             33\n",
      "promotion-ids         49153\n",
      "B2B                       0\n",
      "fulfilled-by          89698\n",
      "Unnamed: 22           49050\n",
      "dtype: int64\n"
     ]
    }
   ],
   "source": [
    "print(df.isnull().sum()) "
   ]
  },
  {
   "cell_type": "code",
   "execution_count": 16,
   "id": "a7f0cfea-eabc-41c8-b5d0-0ded86e38635",
   "metadata": {},
   "outputs": [],
   "source": [
    "df.dropna(subset=['ship-city', 'ship-postal-code', 'ship-country'], inplace=True)\n"
   ]
  },
  {
   "cell_type": "code",
   "execution_count": 30,
   "id": "b56638f1-1edd-483c-8518-0c5c41763196",
   "metadata": {},
   "outputs": [],
   "source": [
    "## df.drop(columns=['Courier Status', 'promotion-ids', 'fulfilled-by', 'Unnamed: 22'], inplace=True)\n"
   ]
  },
  {
   "cell_type": "code",
   "execution_count": 31,
   "id": "d8b75b94-d7d0-4335-b4ce-613a7f1d8983",
   "metadata": {},
   "outputs": [
    {
     "name": "stdout",
     "output_type": "stream",
     "text": [
      "Column 'Courier Status' not found.\n",
      "index                 0\n",
      "Order ID              0\n",
      "Date                  0\n",
      "Status                0\n",
      "Fulfilment            0\n",
      "Sales Channel         0\n",
      "ship-service-level    0\n",
      "Style                 0\n",
      "SKU                   0\n",
      "Category              0\n",
      "Size                  0\n",
      "ASIN                  0\n",
      "Qty                   0\n",
      "currency              0\n",
      "Amount                0\n",
      "ship-city             0\n",
      "ship-state            0\n",
      "ship-postal-code      0\n",
      "ship-country          0\n",
      "B2B                   0\n",
      "is_cancelled          0\n",
      "dtype: int64\n"
     ]
    }
   ],
   "source": [
    "# Remove leading/trailing spaces from column names\n",
    "df.columns = df.columns.str.strip()\n",
    "\n",
    "# Fill missing values\n",
    "df['ship-city'] = df['ship-city'].fillna('Unknown')\n",
    "df['ship-postal-code'] = df['ship-postal-code'].fillna('Unknown')\n",
    "df['ship-country'] = df['ship-country'].fillna('Unknown')\n",
    "\n",
    "# Check and fill 'Courier Status'\n",
    "if 'Courier Status' in df.columns:\n",
    "    df['Courier Status'] = df['Courier Status'].fillna('Not Specified')\n",
    "else:\n",
    "    print(\"Column 'Courier Status' not found.\")\n",
    "\n",
    "# Fill missing values in 'Qty' with the mean\n",
    "if df['Qty'].isnull().any():\n",
    "    df['Qty'] = df['Qty'].fillna(df['Qty'].mean())\n",
    "\n",
    "# Verify changes\n",
    "print(df.isnull().sum())\n"
   ]
  },
  {
   "cell_type": "code",
   "execution_count": null,
   "id": "a01b4472-5bfb-4f0e-9d68-b32409cd121b",
   "metadata": {},
   "outputs": [],
   "source": []
  },
  {
   "cell_type": "code",
   "execution_count": 32,
   "id": "7acdbeb6-d98e-471d-bddd-5dec2662e66b",
   "metadata": {},
   "outputs": [
    {
     "name": "stdout",
     "output_type": "stream",
     "text": [
      "index                 0\n",
      "Order ID              0\n",
      "Date                  0\n",
      "Status                0\n",
      "Fulfilment            0\n",
      "Sales Channel         0\n",
      "ship-service-level    0\n",
      "Style                 0\n",
      "SKU                   0\n",
      "Category              0\n",
      "Size                  0\n",
      "ASIN                  0\n",
      "Qty                   0\n",
      "currency              0\n",
      "Amount                0\n",
      "ship-city             0\n",
      "ship-state            0\n",
      "ship-postal-code      0\n",
      "ship-country          0\n",
      "B2B                   0\n",
      "is_cancelled          0\n",
      "dtype: int64\n"
     ]
    }
   ],
   "source": [
    "# Fill missing values without using inplace=True\n",
    "df['ship-city'] = df['ship-city'].fillna('Unknown')\n",
    "df['ship-postal-code'] = df['ship-postal-code'].fillna('Unknown')\n",
    "df['ship-country'] = df['ship-country'].fillna('Unknown')\n",
    "df['Status'] = df['Status'].fillna('Not Specified')\n",
    "df['Qty'] = df['Qty'].fillna(df['Qty'].mean())  # Fill with mean for quantity\n",
    "\n",
    "# Check for remaining NaN values\n",
    "print(df.isnull().sum())\n"
   ]
  },
  {
   "cell_type": "code",
   "execution_count": 20,
   "id": "3b9d4271-fb7e-4516-8838-8476c8866311",
   "metadata": {},
   "outputs": [
    {
     "name": "stdout",
     "output_type": "stream",
     "text": [
      "index                    0\n",
      "Order ID                 0\n",
      "Date                     0\n",
      "Status                   0\n",
      "Fulfilment               0\n",
      "Sales Channel            0\n",
      "ship-service-level       0\n",
      "Style                    0\n",
      "SKU                      0\n",
      "Category                 0\n",
      "Size                     0\n",
      "ASIN                     0\n",
      "Qty                      0\n",
      "currency              7793\n",
      "Amount                7793\n",
      "ship-city                0\n",
      "ship-state               0\n",
      "ship-postal-code         0\n",
      "ship-country             0\n",
      "B2B                      0\n",
      "dtype: int64\n"
     ]
    }
   ],
   "source": [
    "print(df.isnull().sum())  # Check for remaining missing values\n"
   ]
  },
  {
   "cell_type": "code",
   "execution_count": 33,
   "id": "ac4593e8-6c6e-4daf-a849-fdff6588ee3a",
   "metadata": {},
   "outputs": [],
   "source": [
    "df['Amount'] = pd.to_numeric(df['Amount'], errors='coerce')  # Ensure Amount is numeric\n"
   ]
  },
  {
   "cell_type": "code",
   "execution_count": 34,
   "id": "e9fc1eaf-a280-492d-980a-03e1920b0520",
   "metadata": {},
   "outputs": [
    {
     "name": "stdout",
     "output_type": "stream",
     "text": [
      "0\n"
     ]
    }
   ],
   "source": [
    "print(df['Amount'].isna().sum())\n"
   ]
  },
  {
   "cell_type": "code",
   "execution_count": 35,
   "id": "7553f2b4-8ff6-437f-92ee-cd7313ccf865",
   "metadata": {},
   "outputs": [
    {
     "name": "stdout",
     "output_type": "stream",
     "text": [
      "NaN values in 'Amount': 0\n"
     ]
    }
   ],
   "source": [
    "print(\"NaN values in 'Amount':\", df['Amount'].isna().sum())\n"
   ]
  },
  {
   "cell_type": "code",
   "execution_count": null,
   "id": "6ce9e1b3-4c4d-4c6a-a213-87d0e275fe54",
   "metadata": {},
   "outputs": [],
   "source": []
  },
  {
   "cell_type": "code",
   "execution_count": null,
   "id": "4352a1b8-fa16-477f-b345-e462ef09f42c",
   "metadata": {},
   "outputs": [],
   "source": []
  },
  {
   "cell_type": "code",
   "execution_count": null,
   "id": "576ca781-97a7-49dd-92ed-5da07528a622",
   "metadata": {},
   "outputs": [],
   "source": []
  },
  {
   "cell_type": "code",
   "execution_count": null,
   "id": "0350d30d-a686-423f-8522-28776731e348",
   "metadata": {},
   "outputs": [],
   "source": []
  },
  {
   "cell_type": "code",
   "execution_count": null,
   "id": "5b336129-013d-4364-b6cc-31f951a610f5",
   "metadata": {},
   "outputs": [],
   "source": []
  },
  {
   "cell_type": "code",
   "execution_count": 37,
   "id": "92456556-9735-4fad-8305-89445608cdf9",
   "metadata": {},
   "outputs": [
    {
     "name": "stdout",
     "output_type": "stream",
     "text": [
      "NaN values in 'Amount': 0\n"
     ]
    },
    {
     "data": {
      "image/png": "[encoded data removed]",
      "text/plain": [
       "<Figure size 1200x600 with 1 Axes>"
      ]
     },
     "metadata": {},
     "output_type": "display_data"
    },
    {
     "name": "stdout",
     "output_type": "stream",
     "text": [
      "Model R^2 Score: 0.21\n"
     ]
    }
   ],
   "source": [
    "\n",
    "from sklearn.model_selection import train_test_split\n",
    "from sklearn.linear_model import LinearRegression\n",
    "from sklearn.preprocessing import LabelEncoder\n",
    "\n",
    "\n",
    "# Check for NaN values in 'Amount'\n",
    "print(\"NaN values in 'Amount':\", df['Amount'].isna().sum())\n",
    "\n",
    "# Drop rows with NaN values in 'Amount'\n",
    "df = df.dropna(subset=['Amount'])\n",
    "\n",
    "# Fill NaN values (if needed, but in this case, we dropped them)\n",
    "# df['Amount'] = df['Amount'].fillna(df['Amount'].mean())\n",
    "\n",
    "# 1. Calculate total shipping costs by category and region\n",
    "category_shipping = df.groupby(['Category', 'ship-state'])['Amount'].sum().reset_index()\n",
    "category_shipping.columns = ['Category', 'State', 'Total Shipping Cost']\n",
    "\n",
    "# 2. Identify patterns in order quantities\n",
    "quantity_trends = df.groupby(['ship-state', 'Category'])['Qty'].sum().reset_index()\n",
    "quantity_trends.columns = ['State', 'Category', 'Total Quantity']\n",
    "\n",
    "# 3. Merge trends for analysis\n",
    "merged_trends = pd.merge(category_shipping, quantity_trends, on=['State', 'Category'])\n",
    "\n",
    "# 4. Visualize the results\n",
    "plt.figure(figsize=(12, 6))\n",
    "sns.barplot(data=merged_trends, x='State', y='Total Shipping Cost', hue='Category')\n",
    "plt.title('Total Shipping Cost by Category and State')\n",
    "plt.xticks(rotation=45)\n",
    "plt.tight_layout()\n",
    "plt.show()\n",
    "\n",
    "# 5. Using Machine Learning to predict shipping costs\n",
    "# Encode categorical variables\n",
    "label_encoder = LabelEncoder()\n",
    "df['Category'] = label_encoder.fit_transform(df['Category'].astype(str))\n",
    "df['ship-state'] = label_encoder.fit_transform(df['ship-state'].astype(str))\n",
    "\n",
    "# Define features and target\n",
    "X = df[['Qty', 'Category', 'ship-state']]\n",
    "y = df['Amount']\n",
    "\n",
    "# Split the data\n",
    "X_train, X_test, y_train, y_test = train_test_split(X, y, test_size=0.2, random_state=42)\n",
    "\n",
    "# Train a simple linear regression model\n",
    "model = LinearRegression()\n",
    "model.fit(X_train, y_train)\n",
    "\n",
    "# Evaluate the model\n",
    "score = model.score(X_test, y_test)\n",
    "print(f'Model R^2 Score: {score:.2f}')\n"
   ]
  },
  {
   "cell_type": "code",
   "execution_count": 38,
   "id": "e468e52e-7886-4010-9458-ecbd841a90b0",
   "metadata": {},
   "outputs": [
    {
     "name": "stdout",
     "output_type": "stream",
     "text": [
      "index                 0\n",
      "Order ID              0\n",
      "Date                  0\n",
      "Status                0\n",
      "Fulfilment            0\n",
      "Sales Channel         0\n",
      "ship-service-level    0\n",
      "Style                 0\n",
      "SKU                   0\n",
      "Category              0\n",
      "Size                  0\n",
      "ASIN                  0\n",
      "Qty                   0\n",
      "currency              0\n",
      "Amount                0\n",
      "ship-city             0\n",
      "ship-state            0\n",
      "ship-postal-code      0\n",
      "ship-country          0\n",
      "B2B                   0\n",
      "is_cancelled          0\n",
      "dtype: int64\n"
     ]
    }
   ],
   "source": [
    "print(df.isnull().sum())\n"
   ]
  },
  {
   "cell_type": "code",
   "execution_count": 39,
   "id": "d3071571-c145-4f49-a102-64a6b6514619",
   "metadata": {},
   "outputs": [
    {
     "data": {
      "image/png": "[encoded data removed]",
      "text/plain": [
       "<Figure size 1200x600 with 1 Axes>"
      ]
     },
     "metadata": {},
     "output_type": "display_data"
    },
    {
     "name": "stdout",
     "output_type": "stream",
     "text": [
      "       ship-city  ship-state  Category      Amount\n",
      "1361   BENGALURU           7         5  3158687.66\n",
      "4992   HYDERABAD          48         5  2160340.30\n",
      "9181   NEW DELHI          45         5  2038111.72\n",
      "1364   BENGALURU           7         8  1867564.81\n",
      "8232      MUMBAI          13         5  1726996.56\n",
      "4995   HYDERABAD          48         8  1468109.30\n",
      "2500     CHENNAI          47         5  1249230.35\n",
      "2503     CHENNAI          47         8  1135773.71\n",
      "10493       PUNE          13         5  1126364.34\n",
      "1363   BENGALURU           7         7  1123697.16\n"
     ]
    }
   ],
   "source": [
    "# 1. Group by ship-city, ship-state, and Category to find total shipping costs\n",
    "cost_categories = df.groupby(['ship-city', 'ship-state', 'Category'])['Amount'].sum().reset_index()\n",
    "\n",
    "# 2. Identify the top 10 most expensive delivery locations and categories\n",
    "top_costs = cost_categories.sort_values(by='Amount', ascending=False).head(10)\n",
    "\n",
    "# 3. Visualize the results\n",
    "plt.figure(figsize=(12, 6))\n",
    "sns.barplot(data=top_costs, x='Amount', y='ship-city', hue='Category')\n",
    "plt.title('Top 10 Most Expensive Deliveries by City and Category')\n",
    "plt.xlabel('Total Shipping Cost (INR)')\n",
    "plt.ylabel('Ship City')\n",
    "plt.xticks(rotation=45)\n",
    "plt.tight_layout()\n",
    "plt.show()\n",
    "\n",
    "# Print the top costs for further inspection\n",
    "print(top_costs)\n"
   ]
  },
  {
   "cell_type": "code",
   "execution_count": 40,
   "id": "2cb6633c-315a-4915-a4c9-d079bae98b4e",
   "metadata": {},
   "outputs": [
    {
     "name": "stdout",
     "output_type": "stream",
     "text": [
      "Index(['index', 'Order ID', 'Date', 'Status', 'Fulfilment', 'Sales Channel',\n",
      "       'ship-service-level', 'Style', 'SKU', 'Category', 'Size', 'ASIN', 'Qty',\n",
      "       'currency', 'Amount', 'ship-city', 'ship-state', 'ship-postal-code',\n",
      "       'ship-country', 'B2B', 'is_cancelled'],\n",
      "      dtype='object')\n",
      "Shipping Methods Comparison:\n",
      "  ship-service-level  total_orders  total_amount  average_cost  percentage\n",
      "0          Expedited         82986    54274317.0    656.239852   71.260755\n",
      "1           Standard         33468    24299690.3    632.080176   28.739245\n",
      "\n",
      "Cancellation Rates:\n",
      "  ship-service-level  cancellation_rate\n",
      "0          Expedited           6.800073\n",
      "1           Standard          13.362293\n"
     ]
    },
    {
     "data": {
      "image/png": "[encoded data removed]",
      "text/plain": [
       "<Figure size 1200x500 with 2 Axes>"
      ]
     },
     "metadata": {},
     "output_type": "display_data"
    }
   ],
   "source": [
    "# Print the DataFrame columns for debugging\n",
    "print(df.columns)\n",
    "\n",
    "# a. Compare Shipping Methods\n",
    "shipping_comparison = df.groupby('ship-service-level').agg(\n",
    "    total_orders=('Qty', 'sum'),\n",
    "    total_amount=('Amount', 'sum'),\n",
    "    average_cost=('Amount', 'mean'),\n",
    ").reset_index()\n",
    "\n",
    "# Calculate percentage of expedited orders\n",
    "total_orders = shipping_comparison['total_orders'].sum()\n",
    "shipping_comparison['percentage'] = (shipping_comparison['total_orders'] / total_orders) * 100\n",
    "\n",
    "# Print shipping comparison results\n",
    "print(\"Shipping Methods Comparison:\")\n",
    "print(shipping_comparison)\n",
    "\n",
    "# b. Assess Cancellation Rates\n",
    "# Check if 'Courier Status' exists or use another column for cancellation indication\n",
    "if 'Courier Status' in df.columns:\n",
    "    df['is_cancelled'] = df['Courier Status'].isnull()  # True if status is None (not shipped)\n",
    "else:\n",
    "    # Use alternative logic if 'Courier Status' is missing\n",
    "    df['is_cancelled'] = df['Status'].str.contains(\"Cancelled\", na=False)  # Update accordingly\n",
    "\n",
    "# Calculate cancellation rates\n",
    "cancellation_rate = df.groupby('ship-service-level')['is_cancelled'].mean().reset_index()\n",
    "cancellation_rate['cancellation_rate'] = cancellation_rate['is_cancelled'] * 100  # Convert to percentage\n",
    "\n",
    "# Print cancellation rates\n",
    "print(\"\\nCancellation Rates:\")\n",
    "print(cancellation_rate[['ship-service-level', 'cancellation_rate']])\n",
    "\n",
    "# Visualizing the results\n",
    "plt.figure(figsize=(12, 5))\n",
    "\n",
    "# Subplot for shipping cost comparison\n",
    "plt.subplot(1, 2, 1)\n",
    "sns.barplot(data=shipping_comparison, x='ship-service-level', y='average_cost')\n",
    "plt.title('Average Shipping Cost by Method')\n",
    "plt.ylabel('Average Cost (INR)')\n",
    "\n",
    "# Subplot for cancellation rates\n",
    "plt.subplot(1, 2, 2)\n",
    "sns.barplot(data=cancellation_rate, x='ship-service-level', y='cancellation_rate')\n",
    "plt.title('Cancellation Rate by Shipping Method')\n",
    "plt.ylabel('Cancellation Rate (%)')\n",
    "\n",
    "plt.tight_layout()\n",
    "plt.show()\n"
   ]
  },
  {
   "cell_type": "code",
   "execution_count": 41,
   "id": "7ea32c0e-a5da-4ee5-b2fb-e985880df55e",
   "metadata": {},
   "outputs": [
    {
     "name": "stdout",
     "output_type": "stream",
     "text": [
      "Top Shipping Routes:\n",
      "      ship-city  ship-state  frequency\n",
      "767   BENGALURU           7      10685\n",
      "2879  HYDERABAD          48       7598\n",
      "4754     MUMBAI          13       5867\n",
      "5336  NEW DELHI          45       5440\n",
      "1453    CHENNAI          47       5130\n",
      "6107       PUNE          13       3657\n",
      "3689    KOLKATA          53       2245\n",
      "2593   GURUGRAM           2       1783\n",
      "7539      THANE          13       1607\n",
      "4364    LUCKNOW          50       1354\n",
      "\n",
      "Courier Analysis:\n",
      "     Courier  total_orders  total_cost  average_cost\n",
      "0  Expedited         82986  54274317.0    656.239852\n",
      "1   Standard         33468  24299690.3    632.080176\n",
      "\n",
      "Potential Savings from Switching to Standard Shipping:\n",
      "                            savings      Qty\n",
      "total_potential_savings  8141147.55      NaN\n",
      "total_orders                    NaN  82986.0\n"
     ]
    }
   ],
   "source": [
    "# 1. Optimize Shipping Routes\n",
    "route_frequencies = df.groupby(['ship-city', 'ship-state']).size().reset_index(name='frequency')\n",
    "top_routes = route_frequencies.sort_values(by='frequency', ascending=False)\n",
    "print(\"Top Shipping Routes:\")\n",
    "print(top_routes.head(10))\n",
    "\n",
    "# 2. Negotiate with Couriers\n",
    "df['Courier'] = df['ship-service-level'].apply(lambda x: 'Expedited' if x == 'Expedited' else 'Standard')\n",
    "courier_analysis = df.groupby('Courier').agg(\n",
    "    total_orders=('Qty', 'sum'),\n",
    "    total_cost=('Amount', 'sum'),\n",
    "    average_cost=('Amount', 'mean')\n",
    ").reset_index()\n",
    "print(\"\\nCourier Analysis:\")\n",
    "print(courier_analysis)\n",
    "\n",
    "# 3. Standardize Service Levels\n",
    "potential_switch = df[df['ship-service-level'] == 'Expedited'].copy()\n",
    "potential_switch['savings'] = potential_switch['Amount'] * 0.15  # Assuming a 15% cost reduction for Standard\n",
    "potential_savings_summary = potential_switch.agg(\n",
    "    total_potential_savings=('savings', 'sum'),\n",
    "    total_orders=('Qty', 'sum')\n",
    ")\n",
    "print(\"\\nPotential Savings from Switching to Standard Shipping:\")\n",
    "print(potential_savings_summary)\n"
   ]
  },
  {
   "cell_type": "code",
   "execution_count": null,
   "id": "eda0dc7a-3849-48b2-8938-bd125a109f71",
   "metadata": {},
   "outputs": [],
   "source": []
  },
  {
   "cell_type": "code",
   "execution_count": 42,
   "id": "96b9e320-5cb3-4e5c-bc4e-92c2d082d29d",
   "metadata": {},
   "outputs": [
    {
     "name": "stdout",
     "output_type": "stream",
     "text": [
      "\n",
      "Customer Shipping Preferences:\n",
      "  ship-service-level  total_orders  total_revenue  average_order_value  \\\n",
      "0          Expedited         82986     54274317.0           656.239852   \n",
      "1           Standard         33468     24299690.3           632.080176   \n",
      "\n",
      "   expedited_percentage  \n",
      "0             71.260755  \n",
      "1             28.739245  \n",
      "\n",
      "Expedited Shipping Customers Insights:\n",
      "  Sales Channel  total_expedited_orders  total_expedited_revenue  \\\n",
      "0     Amazon.in                   82986               54274317.0   \n",
      "\n",
      "   suggested_discount  \n",
      "0           5427431.7  \n",
      "\n",
      "Incentive Campaign Suggestion:\n",
      "{'message': 'Promote Standard Shipping with a 10% discount on future purchases.', 'target_customers': ['Amazon.in']}\n"
     ]
    }
   ],
   "source": [
    "# a. Evaluate Customer Preferences\n",
    "shipping_preferences = df.groupby('ship-service-level').agg(\n",
    "    total_orders=('Qty', 'sum'),\n",
    "    total_revenue=('Amount', 'sum'),\n",
    "    average_order_value=('Amount', 'mean')\n",
    ").reset_index()\n",
    "\n",
    "shipping_preferences['expedited_percentage'] = (\n",
    "    shipping_preferences['total_orders'] / shipping_preferences['total_orders'].sum() * 100\n",
    ")\n",
    "\n",
    "print(\"\\nCustomer Shipping Preferences:\")\n",
    "print(shipping_preferences)\n",
    "\n",
    "# b. Promote Cost-Effective Options\n",
    "expedited_customers = df[df['ship-service-level'] == 'Expedited'].groupby('Sales Channel').agg(\n",
    "    total_expedited_orders=('Qty', 'sum'),\n",
    "    total_expedited_revenue=('Amount', 'sum')\n",
    ").reset_index()\n",
    "\n",
    "expedited_customers['suggested_discount'] = expedited_customers['total_expedited_revenue'] * 0.10\n",
    "\n",
    "print(\"\\nExpedited Shipping Customers Insights:\")\n",
    "print(expedited_customers)\n",
    "\n",
    "standard_shipping_incentives = {\n",
    "    'message': 'Promote Standard Shipping with a 10% discount on future purchases.',\n",
    "    'target_customers': expedited_customers['Sales Channel'].tolist()\n",
    "}\n",
    "\n",
    "print(\"\\nIncentive Campaign Suggestion:\")\n",
    "print(standard_shipping_incentives)\n"
   ]
  },
  {
   "cell_type": "code",
   "execution_count": null,
   "id": "581b571d-5c18-4f95-a8fc-59359fcc7323",
   "metadata": {},
   "outputs": [],
   "source": []
  },
  {
   "cell_type": "code",
   "execution_count": 43,
   "id": "6f89ace2-8c1c-4ace-ae75-8d86f747c8f9",
   "metadata": {},
   "outputs": [
    {
     "name": "stdout",
     "output_type": "stream",
     "text": [
      "\n",
      "Initial Metrics for Pilot Test:\n",
      "{'total_orders': 0, 'total_revenue': 0.0, 'average_shipping_cost': nan}\n",
      "\n",
      "New Metrics After Pilot Implementation:\n",
      "{'total_orders': 0, 'total_revenue': 0.0, 'average_shipping_cost': nan}\n",
      "\n",
      "KPI Comparison After Pilot Testing:\n",
      "{'total_orders_change': 0, 'total_revenue_change': 0.0, 'average_shipping_cost_change': nan}\n",
      "\n",
      "Customer Satisfaction Scores:\n",
      "{'pre_implementation_satisfaction': 75, 'post_implementation_satisfaction': 80}\n"
     ]
    }
   ],
   "source": [
    "# a. Pilot Testing\n",
    "pilot_region = 'MAHARASHTRA'\n",
    "pilot_category = 'kurta'\n",
    "\n",
    "# Filter data for the pilot test\n",
    "pilot_data = df[(df['ship-state'] == pilot_region) & (df['Category'] == pilot_category)]\n",
    "\n",
    "# Calculate initial metrics before implementing changes\n",
    "initial_metrics = {\n",
    "    'total_orders': pilot_data['Qty'].sum(),\n",
    "    'total_revenue': pilot_data['Amount'].sum(),\n",
    "    'average_shipping_cost': pilot_data['Amount'].mean(),\n",
    "}\n",
    "\n",
    "print(\"\\nInitial Metrics for Pilot Test:\")\n",
    "print(initial_metrics)\n",
    "\n",
    "# Assume you implement cost-cutting measures here (e.g., promoting Standard shipping)\n",
    "# After implementation, calculate metrics again (using hypothetical new data)\n",
    "new_data = pilot_data.copy()\n",
    "new_data['Amount'] *= 0.9  # Assume a 10% cost reduction\n",
    "\n",
    "# Calculate new metrics\n",
    "new_metrics = {\n",
    "    'total_orders': new_data['Qty'].sum(),\n",
    "    'total_revenue': new_data['Amount'].sum(),\n",
    "    'average_shipping_cost': new_data['Amount'].mean(),\n",
    "}\n",
    "\n",
    "print(\"\\nNew Metrics After Pilot Implementation:\")\n",
    "print(new_metrics)\n",
    "\n",
    "# b. Continuous Monitoring\n",
    "def monitor_kpis(original_data, new_data):\n",
    "    kpi_comparison = {\n",
    "        'total_orders_change': new_data['Qty'].sum() - original_data['Qty'].sum(),\n",
    "        'total_revenue_change': new_data['Amount'].sum() - original_data['Amount'].sum(),\n",
    "        'average_shipping_cost_change': new_data['Amount'].mean() - original_data['Amount'].mean(),\n",
    "    }\n",
    "    return kpi_comparison\n",
    "\n",
    "# Monitor KPIs after the pilot test\n",
    "kpi_results = monitor_kpis(pilot_data, new_data)\n",
    "print(\"\\nKPI Comparison After Pilot Testing:\")\n",
    "print(kpi_results)\n",
    "\n",
    "# Example of tracking customer satisfaction\n",
    "customer_satisfaction = {\n",
    "    'pre_implementation_satisfaction': 75,  # Example score out of 100\n",
    "    'post_implementation_satisfaction': 80,  # Example score out of 100\n",
    "}\n",
    "\n",
    "print(\"\\nCustomer Satisfaction Scores:\")\n",
    "print(customer_satisfaction)"
   ]
  },
  {
   "cell_type": "code",
   "execution_count": 44,
   "id": "dcd7caea-e5e3-4c6e-a69f-fc10746dcfe0",
   "metadata": {},
   "outputs": [
    {
     "name": "stderr",
     "output_type": "stream",
     "text": [
      "C:\\Users\\Bhanu Bisht\\AppData\\Local\\Temp\\ipykernel_17624\\3608408788.py:9: FutureWarning: \n",
      "\n",
      "Passing `palette` without assigning `hue` is deprecated and will be removed in v0.14.0. Assign the `x` variable to `hue` and set `legend=False` for the same effect.\n",
      "\n",
      "  sns.barplot(x='ship-service-level', y='Amount', data=shipping_costs, ax=ax1, palette='viridis')\n"
     ]
    },
    {
     "data": {
      "image/png": "[encoded data removed]",
      "text/plain": [
       "<Figure size 1200x600 with 2 Axes>"
      ]
     },
     "metadata": {},
     "output_type": "display_data"
    }
   ],
   "source": [
    "# Group by shipping service level\n",
    "shipping_costs = df.groupby('ship-service-level')['Amount'].mean().reset_index()\n",
    "order_quantities = df.groupby('ship-service-level')['Qty'].sum().reset_index()\n",
    "\n",
    "# Create a figure with subplots\n",
    "fig, ax1 = plt.subplots(figsize=(12, 6))\n",
    "\n",
    "# Plot average shipping costs\n",
    "sns.barplot(x='ship-service-level', y='Amount', data=shipping_costs, ax=ax1, palette='viridis')\n",
    "ax1.set_title('Average Shipping Costs by Service Level')\n",
    "ax1.set_ylabel('Average Cost')\n",
    "ax1.set_xlabel('Shipping Service Level')\n",
    "\n",
    "# Create a second y-axis for order quantities\n",
    "ax2 = ax1.twinx()\n",
    "sns.lineplot(x='ship-service-level', y='Qty', data=order_quantities, ax=ax2, color='orange', marker='o')\n",
    "ax2.set_ylabel('Total Order Quantity')\n",
    "\n",
    "plt.show()"
   ]
  },
  {
   "cell_type": "code",
   "execution_count": 45,
   "id": "51ddacae-7537-4dd6-8e92-369f6b1b4ec5",
   "metadata": {},
   "outputs": [
    {
     "name": "stderr",
     "output_type": "stream",
     "text": [
      "C:\\Users\\Bhanu Bisht\\AppData\\Local\\Temp\\ipykernel_17624\\3788998634.py:10: FutureWarning: \n",
      "\n",
      "Passing `palette` without assigning `hue` is deprecated and will be removed in v0.14.0. Assign the `x` variable to `hue` and set `legend=False` for the same effect.\n",
      "\n",
      "  sns.barplot(x='Stage', y='Satisfaction Score', data=satisfaction_df, palette='coolwarm')\n"
     ]
    },
    {
     "data": {
      "image/png": "[encoded data removed]",
      "text/plain": [
       "<Figure size 800x500 with 1 Axes>"
      ]
     },
     "metadata": {},
     "output_type": "display_data"
    }
   ],
   "source": [
    "# Sample customer satisfaction data\n",
    "satisfaction_data = {\n",
    "    'Stage': ['Pre-Implementation', 'Post-Implementation'],\n",
    "    'Satisfaction Score': [75, 80]\n",
    "}\n",
    "satisfaction_df = pd.DataFrame(satisfaction_data)\n",
    "\n",
    "# Plotting customer satisfaction scores\n",
    "plt.figure(figsize=(8, 5))\n",
    "sns.barplot(x='Stage', y='Satisfaction Score', data=satisfaction_df, palette='coolwarm')\n",
    "plt.title('Customer Satisfaction Scores Before and After Implementation')\n",
    "plt.ylim(0, 100)\n",
    "plt.ylabel('Satisfaction Score (out of 100)')\n",
    "plt.show()\n"
   ]
  },
  {
   "cell_type": "code",
   "execution_count": 46,
   "id": "2d0cbfc2-df77-4b9f-8dba-afde06050c8c",
   "metadata": {},
   "outputs": [
    {
     "name": "stderr",
     "output_type": "stream",
     "text": [
      "C:\\Users\\Bhanu Bisht\\AppData\\Local\\Temp\\ipykernel_17624\\3315116863.py:10: FutureWarning: \n",
      "\n",
      "Passing `palette` without assigning `hue` is deprecated and will be removed in v0.14.0. Assign the `x` variable to `hue` and set `legend=False` for the same effect.\n",
      "\n",
      "  sns.barplot(x='Measure', y='Potential Savings ($)', data=savings_df, palette='pastel')\n"
     ]
    },
    {
     "data": {
      "image/png": "[encoded data removed]",
      "text/plain": [
       "<Figure size 1000x500 with 1 Axes>"
      ]
     },
     "metadata": {},
     "output_type": "display_data"
    }
   ],
   "source": [
    "# Sample potential savings data\n",
    "savings_data = {\n",
    "    'Measure': ['Cost Reduction', 'Increased Standard Shipping', 'Consolidation'],\n",
    "    'Potential Savings ($)': [1000, 1500, 800]\n",
    "}\n",
    "savings_df = pd.DataFrame(savings_data)\n",
    "\n",
    "# Plotting potential savings\n",
    "plt.figure(figsize=(10, 5))\n",
    "sns.barplot(x='Measure', y='Potential Savings ($)', data=savings_df, palette='pastel')\n",
    "plt.title('Potential Savings from Cost-Cutting Measures')\n",
    "plt.ylabel('Potential Savings ($)')\n",
    "plt.show()\n"
   ]
  },
  {
   "cell_type": "code",
   "execution_count": null,
   "id": "1a5dc8e0-8b35-4a72-a2e5-fcfb07a878e0",
   "metadata": {},
   "outputs": [],
   "source": []
  }
 ],
 "metadata": {
  "kernelspec": {
   "display_name": "Python 3 (ipykernel)",
   "language": "python",
   "name": "python3"
  },
  "language_info": {
   "codemirror_mode": {
    "name": "ipython",
    "version": 3
   },
   "file_extension": ".py",
   "mimetype": "text/x-python",
   "name": "python",
   "nbconvert_exporter": "python",
   "pygments_lexer": "ipython3",
   "version": "3.11.7"
  }
 },
 "nbformat": 4,
 "nbformat_minor": 5
}
